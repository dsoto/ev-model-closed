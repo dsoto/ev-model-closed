{
 "cells": [
  {
   "cell_type": "code",
   "execution_count": 1,
   "metadata": {},
   "outputs": [],
   "source": [
    "import sympy \n",
    "sympy.init_printing()"
   ]
  },
  {
   "cell_type": "markdown",
   "metadata": {},
   "source": [
    "Here we define variables and set up equations."
   ]
  },
  {
   "cell_type": "code",
   "execution_count": 2,
   "metadata": {},
   "outputs": [],
   "source": [
    "# symbols used\n",
    "Ib = sympy.symbols('I_b')\n",
    "Ic = sympy.symbols('I_c')                       # peak \n",
    "Vb = sympy.symbols('V_b')\n",
    "Vc = sympy.symbols('V_c')                       # peak, phase to neutral\n",
    "Rm = sympy.symbols('R_m')                       # single phase motor resistance\n",
    "k = sympy.symbols('k')                          # phase to neutral\n",
    "omega = sympy.symbols('omega', positive = True)\n",
    "Rb = sympy.symbols('R_b')\n",
    "Voc = sympy.symbols('V_oc')\n",
    "Imm = sympy.symbols('I_mm')\n",
    "Ibm = sympy.symbols('I_bm')\n",
    "torque = sympy.symbols('tau')\n",
    "\n",
    "# governing equations\n",
    "battery_loop = sympy.Eq(Voc, Ib * Rb + Vb)\n",
    "power_eq = sympy.Eq(Vb * Ib, sympy.Rational(3/2) * Vc * Ic)\n",
    "power_eq = sympy.Eq(Vb * Ib, Vc * Ic)\n",
    "controller_loop = sympy.Eq(Vc, Ic * Rm + k * omega / sympy.sqrt(3))\n",
    "controller_loop = sympy.Eq(Vc, Ic * Rm + k * omega)\n",
    "regime_1 = sympy.Eq(Ic, Imm)\n",
    "regime_2 = sympy.Eq(Ib, Ibm)\n",
    "regime_3 = sympy.Eq(Vb, sympy.sqrt(3) * Vc)\n",
    "regime_3 = sympy.Eq(Vb, Vc)\n",
    "\n",
    "# numbers for numerical evaluation\n",
    "ev_system = {Rb: 0.10, Voc:50, Imm: 150, Ibm:100, Rm: 0.05, k:1.0}"
   ]
  },
  {
   "cell_type": "markdown",
   "metadata": {},
   "source": [
    "We model the section where the controller is at max motor current by using the regime 1 equation and solving."
   ]
  },
  {
   "cell_type": "code",
   "execution_count": 3,
   "metadata": {},
   "outputs": [
    {
     "data": {
      "image/png": "[encoded data removed]",
      "text/latex": [
       "$\\displaystyle \\left[ \\left\\{ I_{b} : \\frac{V_{oc} - \\sqrt{- 4 I_{mm}^{2} R_{b} R_{m} - 4 I_{mm} R_{b} k \\omega + V_{oc}^{2}}}{2 R_{b}}, \\  I_{c} : I_{mm}, \\  V_{b} : \\frac{V_{oc}}{2} + \\frac{\\sqrt{- 4 I_{mm}^{2} R_{b} R_{m} - 4 I_{mm} R_{b} k \\omega + V_{oc}^{2}}}{2}, \\  V_{c} : I_{mm} R_{m} + k \\omega\\right\\}, \\  \\left\\{ I_{b} : \\frac{V_{oc} + \\sqrt{- 4 I_{mm}^{2} R_{b} R_{m} - 4 I_{mm} R_{b} k \\omega + V_{oc}^{2}}}{2 R_{b}}, \\  I_{c} : I_{mm}, \\  V_{b} : \\frac{V_{oc}}{2} - \\frac{\\sqrt{- 4 I_{mm}^{2} R_{b} R_{m} - 4 I_{mm} R_{b} k \\omega + V_{oc}^{2}}}{2}, \\  V_{c} : I_{mm} R_{m} + k \\omega\\right\\}\\right]$"
      ],
      "text/plain": [
       "⎡⎧               _________________________________________                    \n",
       "⎢⎪              ╱        2                              2                     \n",
       "⎢⎨     V_oc - ╲╱  - 4⋅Iₘₘ ⋅R_b⋅Rₘ - 4⋅Iₘₘ⋅R_b⋅k⋅ω + V_oc                   V_o\n",
       "⎢⎪I_b: ───────────────────────────────────────────────────, I_c: Iₘₘ, V_b: ───\n",
       "⎣⎩                            2⋅R_b                                         2 \n",
       "\n",
       "       _________________________________________                   ⎫  ⎧       \n",
       "      ╱        2                              2                    ⎪  ⎪       \n",
       "c   ╲╱  - 4⋅Iₘₘ ⋅R_b⋅Rₘ - 4⋅Iₘₘ⋅R_b⋅k⋅ω + V_oc                     ⎬  ⎨     V_\n",
       "─ + ────────────────────────────────────────────, V_c: Iₘₘ⋅Rₘ + k⋅ω⎪, ⎪I_b: ──\n",
       "                         2                                         ⎭  ⎩       \n",
       "\n",
       "        _________________________________________                           __\n",
       "       ╱        2                              2                           ╱  \n",
       "oc + ╲╱  - 4⋅Iₘₘ ⋅R_b⋅Rₘ - 4⋅Iₘₘ⋅R_b⋅k⋅ω + V_oc                   V_oc   ╲╱  -\n",
       "─────────────────────────────────────────────────, I_c: Iₘₘ, V_b: ──── - ─────\n",
       "                     2⋅R_b                                         2          \n",
       "\n",
       "_______________________________________                   ⎫⎤\n",
       "      2                              2                    ⎪⎥\n",
       " 4⋅Iₘₘ ⋅R_b⋅Rₘ - 4⋅Iₘₘ⋅R_b⋅k⋅ω + V_oc                     ⎬⎥\n",
       "───────────────────────────────────────, V_c: Iₘₘ⋅Rₘ + k⋅ω⎪⎥\n",
       "                2                                         ⎭⎦"
      ]
     },
     "execution_count": 3,
     "metadata": {},
     "output_type": "execute_result"
    }
   ],
   "source": [
    "phase_limit = sympy.solve([power_eq, battery_loop, controller_loop, regime_1], exclude=[Rb, Rm, k, Imm, Voc])\n",
    "phase_limit "
   ]
  },
  {
   "cell_type": "markdown",
   "metadata": {},
   "source": [
    "We expect the battery current to increase as omega increases (positive derivative) so we select the first equation.\n",
    "We see that this derivative is positive but will be imaginary for some combinations of variables."
   ]
  },
  {
   "cell_type": "code",
   "execution_count": 4,
   "metadata": {},
   "outputs": [
    {
     "data": {
      "image/png": "[encoded data removed]",
      "text/latex": [
       "$\\displaystyle \\frac{I_{mm} k}{\\sqrt{- 4 I_{mm}^{2} R_{b} R_{m} - 4 I_{mm} R_{b} k \\omega + V_{oc}^{2}}}$"
      ],
      "text/plain": [
       "                   Iₘₘ⋅k                    \n",
       "────────────────────────────────────────────\n",
       "   _________________________________________\n",
       "  ╱        2                              2 \n",
       "╲╱  - 4⋅Iₘₘ ⋅R_b⋅Rₘ - 4⋅Iₘₘ⋅R_b⋅k⋅ω + V_oc  "
      ]
     },
     "execution_count": 4,
     "metadata": {},
     "output_type": "execute_result"
    }
   ],
   "source": [
    "sympy.diff(phase_limit[0][Ib], omega)"
   ]
  },
  {
   "cell_type": "markdown",
   "metadata": {},
   "source": [
    "We are interested in what battery current is necessary for the controller current at zero rpm.\n",
    "A maximum battery current below this will constrain the operation of the system. \n",
    "\n"
   ]
  },
  {
   "cell_type": "code",
   "execution_count": 5,
   "metadata": {},
   "outputs": [
    {
     "data": {
      "image/png": "[encoded data removed]",
      "text/latex": [
       "$\\displaystyle \\frac{V_{oc} - \\sqrt{- 4 I_{mm}^{2} R_{b} R_{m} + V_{oc}^{2}}}{2 R_{b}}$"
      ],
      "text/plain": [
       "          _________________________\n",
       "         ╱        2              2 \n",
       "V_oc - ╲╱  - 4⋅Iₘₘ ⋅R_b⋅Rₘ + V_oc  \n",
       "───────────────────────────────────\n",
       "               2⋅R_b               "
      ]
     },
     "execution_count": 5,
     "metadata": {},
     "output_type": "execute_result"
    }
   ],
   "source": [
    "phase_limit[0][Ib].subs(omega, 0)"
   ]
  },
  {
   "cell_type": "markdown",
   "metadata": {},
   "source": [
    "We also note that the maximum current possible is when the square root equals zero.\n",
    "This looks like the short circuit dissipated power in the battery equals four times the motor resistive dissipation at max controller current."
   ]
  },
  {
   "cell_type": "code",
   "execution_count": 6,
   "metadata": {},
   "outputs": [
    {
     "data": {
      "image/png": "[encoded data removed]",
      "text/latex": [
       "$\\displaystyle - 4 I_{mm}^{2} R_{b} R_{m} + V_{oc}^{2}$"
      ],
      "text/plain": [
       "       2              2\n",
       "- 4⋅Iₘₘ ⋅R_b⋅Rₘ + V_oc "
      ]
     },
     "execution_count": 6,
     "metadata": {},
     "output_type": "execute_result"
    }
   ],
   "source": [
    "phase_limit[0][Ib].subs(omega, 0).args[2].args[1].args[1].args[0]"
   ]
  },
  {
   "cell_type": "markdown",
   "metadata": {},
   "source": [
    "We can express this current in terms of the battery's short circuit current, $I_{sc} = V_{oc}/R_b$ and the power being dissipated in the resistor at maximum current, $P_{rm} = I_{mm}^2 R_m$.\n",
    "\n",
    "For an ideal voltage source ($R_b = 0$), this should equal the motor resistor dissipation power divided by the battery voltage. "
   ]
  },
  {
   "cell_type": "code",
   "execution_count": 7,
   "metadata": {},
   "outputs": [
    {
     "data": {
      "image/png": "[encoded data removed]",
      "text/latex": [
       "$\\displaystyle \\frac{I_{sc} R_{b} - \\sqrt{I_{sc}^{2} R_{b}^{2} - 4 P_{rm} R_{b}}}{2 R_{b}}$"
      ],
      "text/plain": [
       "              ________________________\n",
       "             ╱     2    2             \n",
       "I_sc⋅R_b - ╲╱  I_sc ⋅R_b  - 4⋅Pᵣₘ⋅R_b \n",
       "──────────────────────────────────────\n",
       "                2⋅R_b                 "
      ]
     },
     "execution_count": 7,
     "metadata": {},
     "output_type": "execute_result"
    }
   ],
   "source": [
    "omeganl = sympy.Symbol('omega_nl')\n",
    "Isc = sympy.Symbol('I_sc')\n",
    "Prm = sympy.Symbol('P_rm')\n",
    "# collect, expand, simplify, together\n",
    "phase_limit[0][Ib].subs(omega, 0).subs(Voc, Isc*Rb).subs(Imm**2*Rm, Prm)"
   ]
  },
  {
   "cell_type": "markdown",
   "metadata": {},
   "source": [
    "In the constant power region, the battery current and voltage are constant and we can solve for the controller current and voltage."
   ]
  },
  {
   "cell_type": "code",
   "execution_count": 8,
   "metadata": {},
   "outputs": [
    {
     "data": {
      "image/png": "[encoded data removed]",
      "text/latex": [
       "$\\displaystyle \\left[ \\left\\{ I_{b} : I_{bm}, \\  I_{c} : \\frac{- k \\omega + \\sqrt{- 4 I_{bm}^{2} R_{b} R_{m} + 4 I_{bm} R_{m} V_{oc} + k^{2} \\omega^{2}}}{2 R_{m}}, \\  V_{b} : - I_{bm} R_{b} + V_{oc}, \\  V_{c} : \\frac{k \\omega}{2} + \\frac{\\sqrt{- 4 I_{bm}^{2} R_{b} R_{m} + 4 I_{bm} R_{m} V_{oc} + k^{2} \\omega^{2}}}{2}\\right\\}, \\  \\left\\{ I_{b} : I_{bm}, \\  I_{c} : - \\frac{k \\omega + \\sqrt{- 4 I_{bm}^{2} R_{b} R_{m} + 4 I_{bm} R_{m} V_{oc} + k^{2} \\omega^{2}}}{2 R_{m}}, \\  V_{b} : - I_{bm} R_{b} + V_{oc}, \\  V_{c} : \\frac{k \\omega}{2} - \\frac{\\sqrt{- 4 I_{bm}^{2} R_{b} R_{m} + 4 I_{bm} R_{m} V_{oc} + k^{2} \\omega^{2}}}{2}\\right\\}\\right]$"
      ],
      "text/plain": [
       "⎡⎧                          ___________________________________________       \n",
       "⎢⎪                         ╱         2                            2  2        \n",
       "⎢⎨                -k⋅ω + ╲╱  - 4⋅I_bm ⋅R_b⋅Rₘ + 4⋅I_bm⋅Rₘ⋅V_oc + k ⋅ω         \n",
       "⎢⎪I_b: I_bm, I_c: ─────────────────────────────────────────────────────, V_b: \n",
       "⎣⎩                                         2⋅Rₘ                               \n",
       "\n",
       "                                ___________________________________________⎫  \n",
       "                               ╱         2                            2  2 ⎪  \n",
       "                       k⋅ω   ╲╱  - 4⋅I_bm ⋅R_b⋅Rₘ + 4⋅I_bm⋅Rₘ⋅V_oc + k ⋅ω  ⎬  \n",
       "-I_bm⋅R_b + V_oc, V_c: ─── + ──────────────────────────────────────────────⎪, \n",
       "                        2                          2                       ⎭  \n",
       "\n",
       "⎧                 ⎛         ___________________________________________⎞      \n",
       "⎪                 ⎜        ╱         2                            2  2 ⎟      \n",
       "⎨                -⎝k⋅ω + ╲╱  - 4⋅I_bm ⋅R_b⋅Rₘ + 4⋅I_bm⋅Rₘ⋅V_oc + k ⋅ω  ⎠      \n",
       "⎪I_b: I_bm, I_c: ────────────────────────────────────────────────────────, V_b\n",
       "⎩                                          2⋅Rₘ                               \n",
       "\n",
       "                                  ___________________________________________⎫\n",
       "                                 ╱         2                            2  2 ⎪\n",
       "                         k⋅ω   ╲╱  - 4⋅I_bm ⋅R_b⋅Rₘ + 4⋅I_bm⋅Rₘ⋅V_oc + k ⋅ω  ⎬\n",
       ": -I_bm⋅R_b + V_oc, V_c: ─── - ──────────────────────────────────────────────⎪\n",
       "                          2                          2                       ⎭\n",
       "\n",
       "⎤\n",
       "⎥\n",
       "⎥\n",
       "⎥\n",
       "⎦"
      ]
     },
     "execution_count": 8,
     "metadata": {},
     "output_type": "execute_result"
    }
   ],
   "source": [
    "battery_limit = sympy.solve([power_eq, battery_loop, controller_loop, regime_2], exclude=[Rb, Rm, k, Ibm, Voc])\n",
    "battery_limit\n",
    "#sympy.diff(battery_limit[0][Ic], omega) "
   ]
  },
  {
   "cell_type": "markdown",
   "metadata": {},
   "source": [
    "We select the equation that has a positive motor current."
   ]
  },
  {
   "cell_type": "code",
   "execution_count": 9,
   "metadata": {},
   "outputs": [
    {
     "data": {
      "image/png": "[encoded data removed]",
      "text/latex": [
       "$\\displaystyle \\frac{- k \\omega + \\sqrt{- 4 I_{bm}^{2} R_{b} R_{m} + 4 I_{bm} R_{m} V_{oc} + k^{2} \\omega^{2}}}{2 R_{m}}$"
      ],
      "text/plain": [
       "          ___________________________________________\n",
       "         ╱         2                            2  2 \n",
       "-k⋅ω + ╲╱  - 4⋅I_bm ⋅R_b⋅Rₘ + 4⋅I_bm⋅Rₘ⋅V_oc + k ⋅ω  \n",
       "─────────────────────────────────────────────────────\n",
       "                         2⋅Rₘ                        "
      ]
     },
     "execution_count": 9,
     "metadata": {},
     "output_type": "execute_result"
    }
   ],
   "source": [
    "battery_limit[0][Ic]"
   ]
  },
  {
   "cell_type": "markdown",
   "metadata": {},
   "source": [
    "TODO: under what conditions will this controller current equation fail?"
   ]
  },
  {
   "cell_type": "markdown",
   "metadata": {},
   "source": [
    "At some point, the motor is spinning fast enough that the battery current will fall below maximum.\n",
    "Above this RPM, the duty cycle will be at max so the controller voltage will equal the battery voltage.\n",
    "Solving we get the following equations."
   ]
  },
  {
   "cell_type": "code",
   "execution_count": 10,
   "metadata": {},
   "outputs": [
    {
     "data": {
      "image/png": "[encoded data removed]",
      "text/latex": [
       "$\\displaystyle \\left[ \\left\\{ I_{b} : \\frac{V_{oc}}{R_{b}}, \\  I_{c} : - \\frac{k \\omega}{R_{m}}, \\  V_{b} : 0, \\  V_{c} : 0\\right\\}, \\  \\left\\{ I_{b} : - \\frac{- V_{oc} + k \\omega}{R_{b} + R_{m}}, \\  I_{c} : - \\frac{- V_{oc} + k \\omega}{R_{b} + R_{m}}, \\  V_{b} : \\frac{R_{b} k \\omega + R_{m} V_{oc}}{R_{b} + R_{m}}, \\  V_{c} : \\frac{R_{b} k \\omega + R_{m} V_{oc}}{R_{b} + R_{m}}\\right\\}\\right]$"
      ],
      "text/plain": [
       "⎡⎧     V_oc       -k⋅ω                 ⎫  ⎧     -(-V_oc + k⋅ω)        -(-V_oc \n",
       "⎢⎨I_b: ────, I_c: ─────, V_b: 0, V_c: 0⎬, ⎨I_b: ───────────────, I_c: ────────\n",
       "⎣⎩     R_b          Rₘ                 ⎭  ⎩         R_b + Rₘ              R_b \n",
       "\n",
       "+ k⋅ω)        R_b⋅k⋅ω + Rₘ⋅V_oc       R_b⋅k⋅ω + Rₘ⋅V_oc⎫⎤\n",
       "───────, V_b: ─────────────────, V_c: ─────────────────⎬⎥\n",
       "+ Rₘ               R_b + Rₘ                R_b + Rₘ    ⎭⎦"
      ]
     },
     "execution_count": 10,
     "metadata": {},
     "output_type": "execute_result"
    }
   ],
   "source": [
    "duty_limit = sympy.solve([power_eq, battery_loop, controller_loop, regime_3], exclude=[Rb, Rm, k, Voc])\n",
    "duty_limit"
   ]
  },
  {
   "cell_type": "markdown",
   "metadata": {},
   "source": [
    "The first equation looks degenerate, so we choose the second."
   ]
  },
  {
   "cell_type": "code",
   "execution_count": 11,
   "metadata": {},
   "outputs": [
    {
     "data": {
      "image/png": "[encoded data removed]",
      "text/latex": [
       "$\\displaystyle \\left\\{ I_{b} : - \\frac{- V_{oc} + k \\omega}{R_{b} + R_{m}}, \\  I_{c} : - \\frac{- V_{oc} + k \\omega}{R_{b} + R_{m}}, \\  V_{b} : \\frac{R_{b} k \\omega + R_{m} V_{oc}}{R_{b} + R_{m}}, \\  V_{c} : \\frac{R_{b} k \\omega + R_{m} V_{oc}}{R_{b} + R_{m}}\\right\\}$"
      ],
      "text/plain": [
       "⎧     -(-V_oc + k⋅ω)        -(-V_oc + k⋅ω)        R_b⋅k⋅ω + Rₘ⋅V_oc       R_b⋅\n",
       "⎨I_b: ───────────────, I_c: ───────────────, V_b: ─────────────────, V_c: ────\n",
       "⎩         R_b + Rₘ              R_b + Rₘ               R_b + Rₘ               \n",
       "\n",
       "k⋅ω + Rₘ⋅V_oc⎫\n",
       "─────────────⎬\n",
       " R_b + Rₘ    ⎭"
      ]
     },
     "execution_count": 11,
     "metadata": {},
     "output_type": "execute_result"
    }
   ],
   "source": [
    "duty_limit[1]"
   ]
  },
  {
   "cell_type": "markdown",
   "metadata": {},
   "source": [
    "The no load speed occurs when the battery or controller current reaches zero at the expected frequency of the open-circuit voltage divided by the voltage constant."
   ]
  },
  {
   "cell_type": "code",
   "execution_count": 12,
   "metadata": {},
   "outputs": [
    {
     "data": {
      "image/png": "[encoded data removed]",
      "text/latex": [
       "$\\displaystyle \\left[ \\frac{V_{oc}}{k}\\right]$"
      ],
      "text/plain": [
       "⎡V_oc⎤\n",
       "⎢────⎥\n",
       "⎣ k  ⎦"
      ]
     },
     "execution_count": 12,
     "metadata": {},
     "output_type": "execute_result"
    }
   ],
   "source": [
    "# no load speed is when Ib and Ic = 0, Vb = Voc, and Vc = Voc/sqrt(3)\n",
    "no_load_speed = sympy.solve(sympy.Eq(duty_limit[1][Ib], 0), omega)\n",
    "no_load_speed"
   ]
  },
  {
   "cell_type": "markdown",
   "metadata": {},
   "source": [
    "- TODO: at what omega do we switch from max controller current to max battery current?\n",
    "- TODO: at what omega do we switch from max battery current to 100% duty cycle?\n",
    "- TODO: what intuitive model explains the 100% duty cycle thing?"
   ]
  },
  {
   "cell_type": "markdown",
   "metadata": {},
   "source": [
    "We can find the frequency at which the battery current reaches maximum by setting the battery current in the phase-current-limited regime to the battery current maximum. \n",
    "\n",
    "*The expression resembles a speed for a controller voltage calculated from the voltage drops at the maximum currents. \n",
    "Note, the scaling factors might be equivalent to the duty cycles.*\n",
    "\n",
    "TODO: think about how the input voltage will appear on the other side of the controller according to the ratio of the currents.\n",
    "\n",
    "Takeaway: to raise crossover frequency, raise max battery current and lower battery internal resistance.\n",
    "However, the battery resistance must be low enough to offset the squaring of the battery current.\n",
    "\n",
    "TODO: is there an optimum battery current? figure this out by differentiating this equation with respect to battery current and setting to zero."
   ]
  },
  {
   "cell_type": "code",
   "execution_count": 13,
   "metadata": {},
   "outputs": [
    {
     "data": {
      "image/png": "[encoded data removed]",
      "text/latex": [
       "$\\displaystyle \\frac{- I_{bm}^{2} R_{b} + I_{bm} V_{oc} - I_{mm}^{2} R_{m}}{I_{mm} k}$"
      ],
      "text/plain": [
       "      2                      2   \n",
       "- I_bm ⋅R_b + I_bm⋅V_oc - Iₘₘ ⋅Rₘ\n",
       "─────────────────────────────────\n",
       "              Iₘₘ⋅k              "
      ]
     },
     "execution_count": 13,
     "metadata": {},
     "output_type": "execute_result"
    }
   ],
   "source": [
    "sympy.solve(sympy.Eq(phase_limit[0][Ib], Ibm), omega)[0]"
   ]
  },
  {
   "cell_type": "markdown",
   "metadata": {},
   "source": [
    "It looks like setting the battery maximum current to half of the short circuit current will extend the frequency as much as possible.\n",
    "\n",
    "TODO: what happens physically and mathematically if the battery current goes above half of the short circuit current? \n",
    "We'll be past the maximum power transfer point, I think."
   ]
  },
  {
   "cell_type": "code",
   "execution_count": 14,
   "metadata": {},
   "outputs": [
    {
     "data": {
      "image/png": "[encoded data removed]",
      "text/latex": [
       "$\\displaystyle \\left[ \\left\\{ I_{bm} : \\frac{V_{oc}}{2 R_{b}}\\right\\}\\right]$"
      ],
      "text/plain": [
       "⎡⎧       V_oc⎫⎤\n",
       "⎢⎨I_bm: ─────⎬⎥\n",
       "⎣⎩      2⋅R_b⎭⎦"
      ]
     },
     "execution_count": 14,
     "metadata": {},
     "output_type": "execute_result"
    }
   ],
   "source": [
    "sympy.solve(sympy.diff(sympy.solve(sympy.Eq(phase_limit[0][Ib], Ibm), omega)[0], Ibm), 0, Ibm)"
   ]
  },
  {
   "cell_type": "markdown",
   "metadata": {},
   "source": [
    "We can find the frequency at which the constant power regime ends by setting the controller currents equal in the constant power region and the BEMF region.\n",
    "\n",
    "TODO: won't we get the same result from setting the voltages equal?"
   ]
  },
  {
   "cell_type": "code",
   "execution_count": 15,
   "metadata": {},
   "outputs": [
    {
     "data": {
      "image/png": "[encoded data removed]",
      "text/latex": [
       "$\\displaystyle \\left[ \\frac{- I_{bm} R_{b} - I_{bm} R_{m} + V_{oc}}{k}, \\  \\frac{I_{bm} R_{b}^{2} + I_{bm} R_{b} R_{m} - R_{m} V_{oc}}{R_{b} k}\\right]$"
      ],
      "text/plain": [
       "⎡                                    2                        ⎤\n",
       "⎢-I_bm⋅R_b - I_bm⋅Rₘ + V_oc  I_bm⋅R_b  + I_bm⋅R_b⋅Rₘ - Rₘ⋅V_oc⎥\n",
       "⎢──────────────────────────, ─────────────────────────────────⎥\n",
       "⎣            k                             R_b⋅k              ⎦"
      ]
     },
     "execution_count": 15,
     "metadata": {},
     "output_type": "execute_result"
    }
   ],
   "source": [
    "# what is omega crossover for duty cycle regime\n",
    "sympy.solve(sympy.Eq(battery_limit[0][Ic], duty_limit[1][Ic]), omega)"
   ]
  },
  {
   "cell_type": "markdown",
   "metadata": {},
   "source": [
    "# Unused Cruft Below"
   ]
  },
  {
   "cell_type": "code",
   "execution_count": 16,
   "metadata": {},
   "outputs": [],
   "source": [
    "# Highest speed analytical solution\n",
    "\n",
    "rho = sympy.Symbol('rho')\n",
    "cd = sympy.Symbol('c_d')\n",
    "area = sympy.Symbol('A')\n",
    "radius = sympy.Symbol('r')\n",
    "\n",
    "load_torque = sympy.Eq(torque, sympy.Rational(1,2) * rho * cd * area * radius**3 * omega**2)\n",
    "high_rpm = sympy.Eq(torque/k, (Voc - k * omega) / (Rm +  Rb))"
   ]
  },
  {
   "cell_type": "code",
   "execution_count": 17,
   "metadata": {},
   "outputs": [
    {
     "data": {
      "image/png": "[encoded data removed]",
      "text/latex": [
       "$\\displaystyle \\tau = \\frac{A c_{d} \\omega^{2} r^{3} \\rho}{2}$"
      ],
      "text/plain": [
       "           2  3  \n",
       "    A⋅c_d⋅ω ⋅r ⋅ρ\n",
       "τ = ─────────────\n",
       "          2      "
      ]
     },
     "execution_count": 17,
     "metadata": {},
     "output_type": "execute_result"
    }
   ],
   "source": [
    "load_torque"
   ]
  },
  {
   "cell_type": "code",
   "execution_count": 18,
   "metadata": {},
   "outputs": [
    {
     "data": {
      "image/png": "[encoded data removed]",
      "text/latex": [
       "$\\displaystyle \\frac{\\tau}{k} = \\frac{V_{oc} - k \\omega}{R_{b} + R_{m}}$"
      ],
      "text/plain": [
       "τ   V_oc - k⋅ω\n",
       "─ = ──────────\n",
       "k    R_b + Rₘ "
      ]
     },
     "execution_count": 18,
     "metadata": {},
     "output_type": "execute_result"
    }
   ],
   "source": [
    "high_rpm"
   ]
  },
  {
   "cell_type": "code",
   "execution_count": 19,
   "metadata": {},
   "outputs": [
    {
     "data": {
      "image/png": "[encoded data removed]",
      "text/latex": [
       "$\\displaystyle - \\frac{k^{2}}{A c_{d} r^{3} \\rho \\left(R_{b} + R_{m}\\right)} + \\frac{\\sqrt{k \\left(2 A R_{b} V_{oc} c_{d} r^{3} \\rho + 2 A R_{m} V_{oc} c_{d} r^{3} \\rho + k^{3}\\right)}}{A c_{d} r^{3} \\rho \\left(R_{b} + R_{m}\\right)}$"
      ],
      "text/plain": [
       "                             _________________________________________________\n",
       "             2              ╱   ⎛                  3                      3   \n",
       "            k             ╲╱  k⋅⎝2⋅A⋅R_b⋅V_oc⋅c_d⋅r ⋅ρ + 2⋅A⋅Rₘ⋅V_oc⋅c_d⋅r ⋅ρ \n",
       "- ───────────────────── + ────────────────────────────────────────────────────\n",
       "         3                                         3                          \n",
       "  A⋅c_d⋅r ⋅ρ⋅(R_b + Rₘ)                     A⋅c_d⋅r ⋅ρ⋅(R_b + Rₘ)             \n",
       "\n",
       "______\n",
       "   3⎞ \n",
       "+ k ⎠ \n",
       "──────\n",
       "      \n",
       "      "
      ]
     },
     "execution_count": 19,
     "metadata": {},
     "output_type": "execute_result"
    }
   ],
   "source": [
    "sympy.solve([load_torque, high_rpm], [torque, omega])[1][1]"
   ]
  },
  {
   "cell_type": "code",
   "execution_count": 20,
   "metadata": {},
   "outputs": [
    {
     "data": {
      "image/png": "[encoded data removed]",
      "text/latex": [
       "$\\displaystyle 45.4732582534074$"
      ],
      "text/plain": [
       "45.4732582534074"
      ]
     },
     "execution_count": 20,
     "metadata": {},
     "output_type": "execute_result"
    }
   ],
   "source": [
    "sympy.solve([load_torque, high_rpm], [torque, omega])[1][1].subs(Rb, 0.141).subs(Rm, 0.06).subs(area, 0.504).subs(k, 1.2).subs(cd, 1).subs(radius, 0.32).subs(rho, 1.2).subs(Voc, 58)\n",
    "                                                                                                                                      "
   ]
  },
  {
   "cell_type": "code",
   "execution_count": 21,
   "metadata": {},
   "outputs": [],
   "source": [
    "Ibdiscriminant = sympy.Eq(Voc**2, 4 * Imm**2 * Rb * Rm - 4 * Imm * Rb * k * omega)"
   ]
  },
  {
   "cell_type": "code",
   "execution_count": 22,
   "metadata": {},
   "outputs": [
    {
     "data": {
      "image/png": "[encoded data removed]",
      "text/latex": [
       "$\\displaystyle \\left[ \\frac{I_{mm} R_{m}}{k} - \\frac{V_{oc}^{2}}{4 I_{mm} R_{b} k}\\right]$"
      ],
      "text/plain": [
       "⎡                2   ⎤\n",
       "⎢Iₘₘ⋅Rₘ      V_oc    ⎥\n",
       "⎢────── - ───────────⎥\n",
       "⎣  k      4⋅Iₘₘ⋅R_b⋅k⎦"
      ]
     },
     "execution_count": 22,
     "metadata": {},
     "output_type": "execute_result"
    }
   ],
   "source": [
    "sympy.solve(Ibdiscriminant, omega)"
   ]
  },
  {
   "cell_type": "code",
   "execution_count": 23,
   "metadata": {},
   "outputs": [],
   "source": [
    "Icdiscriminant = sympy.Eq(k**2 * omega**2, 4 * Ibm**2 * Rb * Rm - 4 * Ibm * Rm * Voc)"
   ]
  },
  {
   "cell_type": "code",
   "execution_count": 24,
   "metadata": {},
   "outputs": [
    {
     "data": {
      "image/png": "[encoded data removed]",
      "text/latex": [
       "$\\displaystyle \\left[ - \\frac{2 \\sqrt{I_{bm} R_{m} \\left(I_{bm} R_{b} - V_{oc}\\right)}}{k}, \\  \\frac{2 \\sqrt{I_{bm} R_{m} \\left(I_{bm} R_{b} - V_{oc}\\right)}}{k}\\right]$"
      ],
      "text/plain": [
       "⎡     ___________________________       ___________________________⎤\n",
       "⎢-2⋅╲╱ I_bm⋅Rₘ⋅(I_bm⋅R_b - V_oc)    2⋅╲╱ I_bm⋅Rₘ⋅(I_bm⋅R_b - V_oc) ⎥\n",
       "⎢─────────────────────────────────, ───────────────────────────────⎥\n",
       "⎣                k                                 k               ⎦"
      ]
     },
     "execution_count": 24,
     "metadata": {},
     "output_type": "execute_result"
    }
   ],
   "source": [
    "sympy.solve(Icdiscriminant, omega)"
   ]
  },
  {
   "cell_type": "code",
   "execution_count": 25,
   "metadata": {},
   "outputs": [
    {
     "data": {
      "image/png": "[encoded data removed]",
      "text/latex": [
       "$\\displaystyle \\frac{V_{oc} + \\sqrt{- 4 I_{mm}^{2} R_{b} R_{m} - 4 I_{mm} R_{b} k \\omega + V_{oc}^{2}}}{2 R_{b}}$"
      ],
      "text/plain": [
       "          _________________________________________\n",
       "         ╱        2                              2 \n",
       "V_oc + ╲╱  - 4⋅Iₘₘ ⋅R_b⋅Rₘ - 4⋅Iₘₘ⋅R_b⋅k⋅ω + V_oc  \n",
       "───────────────────────────────────────────────────\n",
       "                       2⋅R_b                       "
      ]
     },
     "execution_count": 25,
     "metadata": {},
     "output_type": "execute_result"
    }
   ],
   "source": [
    "phase_limit[1][Ib]"
   ]
  },
  {
   "cell_type": "code",
   "execution_count": 26,
   "metadata": {},
   "outputs": [
    {
     "data": {
      "image/png": "[encoded data removed]",
      "text/latex": [
       "$\\displaystyle \\sqrt{- 4 I_{mm}^{2} R_{b} R_{m} - 4 I_{mm} R_{b} k \\omega + V_{oc}^{2}}$"
      ],
      "text/plain": [
       "   _________________________________________\n",
       "  ╱        2                              2 \n",
       "╲╱  - 4⋅Iₘₘ ⋅R_b⋅Rₘ - 4⋅Iₘₘ⋅R_b⋅k⋅ω + V_oc  "
      ]
     },
     "execution_count": 26,
     "metadata": {},
     "output_type": "execute_result"
    }
   ],
   "source": [
    "phase_limited_radical = phase_limit[1][Ib].args[2].args[1].args[0]\n",
    "phase_limited_radical = phase_limit[0][Ib].args[2].args[1].args[1]\n",
    "phase_limited_radical"
   ]
  },
  {
   "cell_type": "code",
   "execution_count": 27,
   "metadata": {},
   "outputs": [
    {
     "data": {
      "image/png": "[encoded data removed]",
      "text/latex": [
       "$\\displaystyle \\sqrt{- 4 I_{mm}^{2} R_{b} R_{m} - 4 I_{mm} R_{b} k \\omega + V_{oc}^{2}}$"
      ],
      "text/plain": [
       "   _________________________________________\n",
       "  ╱        2                              2 \n",
       "╲╱  - 4⋅Iₘₘ ⋅R_b⋅Rₘ - 4⋅Iₘₘ⋅R_b⋅k⋅ω + V_oc  "
      ]
     },
     "execution_count": 27,
     "metadata": {},
     "output_type": "execute_result"
    }
   ],
   "source": [
    "# omega where radical goes imaginary\n",
    "omeganl = sympy.Symbol('omega_nl')\n",
    "Isc = sympy.Symbol('I_sc')\n",
    "phase_limited_radical"
   ]
  },
  {
   "cell_type": "code",
   "execution_count": 28,
   "metadata": {},
   "outputs": [
    {
     "data": {
      "image/png": "[encoded data removed]",
      "text/latex": [
       "$\\displaystyle - \\frac{I_{mm} R_{m}}{k} + \\frac{V_{oc}^{2}}{4 I_{mm} R_{b} k}$"
      ],
      "text/plain": [
       "                  2   \n",
       "  Iₘₘ⋅Rₘ      V_oc    \n",
       "- ────── + ───────────\n",
       "    k      4⋅Iₘₘ⋅R_b⋅k"
      ]
     },
     "execution_count": 28,
     "metadata": {},
     "output_type": "execute_result"
    }
   ],
   "source": [
    "sympy.solve(phase_limited_radical, 0, omega)[0][omega]\n",
    "#.subs(Voc/k, omeganl).subs(Voc/Rb, Isc)"
   ]
  },
  {
   "cell_type": "code",
   "execution_count": 29,
   "metadata": {},
   "outputs": [
    {
     "data": {
      "image/png": "[encoded data removed]",
      "text/latex": [
       "$\\displaystyle \\frac{I_{mm} k}{\\sqrt{- 4 I_{mm}^{2} R_{b} R_{m} - 4 I_{mm} R_{b} k \\omega + V_{oc}^{2}}}$"
      ],
      "text/plain": [
       "                   Iₘₘ⋅k                    \n",
       "────────────────────────────────────────────\n",
       "   _________________________________________\n",
       "  ╱        2                              2 \n",
       "╲╱  - 4⋅Iₘₘ ⋅R_b⋅Rₘ - 4⋅Iₘₘ⋅R_b⋅k⋅ω + V_oc  "
      ]
     },
     "execution_count": 29,
     "metadata": {},
     "output_type": "execute_result"
    }
   ],
   "source": [
    "sympy.diff(phase_limit[0][Ib], omega)"
   ]
  },
  {
   "cell_type": "code",
   "execution_count": 30,
   "metadata": {},
   "outputs": [
    {
     "data": {
      "image/png": "[encoded data removed]",
      "text/latex": [
       "$\\displaystyle \\frac{- 4 I_{mm}^{2} R_{b} R_{m} + V_{oc}^{2}}{4 I_{mm} R_{b} k}$"
      ],
      "text/plain": [
       "       2              2\n",
       "- 4⋅Iₘₘ ⋅R_b⋅Rₘ + V_oc \n",
       "───────────────────────\n",
       "      4⋅Iₘₘ⋅R_b⋅k      "
      ]
     },
     "execution_count": 30,
     "metadata": {},
     "output_type": "execute_result"
    }
   ],
   "source": [
    "sympy.together(sympy.solve(phase_limited_radical, 0, omega)[0][omega])"
   ]
  },
  {
   "cell_type": "code",
   "execution_count": 31,
   "metadata": {},
   "outputs": [
    {
     "data": {
      "image/png": "[encoded data removed]",
      "text/latex": [
       "$\\displaystyle \\frac{- k \\omega + \\sqrt{- 4 I_{bm}^{2} R_{b} R_{m} + 4 I_{bm} R_{m} V_{oc} + k^{2} \\omega^{2}}}{2 R_{m}}$"
      ],
      "text/plain": [
       "          ___________________________________________\n",
       "         ╱         2                            2  2 \n",
       "-k⋅ω + ╲╱  - 4⋅I_bm ⋅R_b⋅Rₘ + 4⋅I_bm⋅Rₘ⋅V_oc + k ⋅ω  \n",
       "─────────────────────────────────────────────────────\n",
       "                         2⋅Rₘ                        "
      ]
     },
     "execution_count": 31,
     "metadata": {},
     "output_type": "execute_result"
    }
   ],
   "source": [
    "battery_limit[0][Ic]"
   ]
  },
  {
   "cell_type": "code",
   "execution_count": 32,
   "metadata": {},
   "outputs": [
    {
     "data": {
      "image/png": "[encoded data removed]",
      "text/latex": [
       "$\\displaystyle \\frac{\\frac{k^{2} \\omega}{\\sqrt{- 4 I_{bm}^{2} R_{b} R_{m} + 4 I_{bm} R_{m} V_{oc} + k^{2} \\omega^{2}}} - k}{2 R_{m}}$"
      ],
      "text/plain": [
       "                      2                           \n",
       "                     k ⋅ω                         \n",
       "────────────────────────────────────────────── - k\n",
       "   ___________________________________________    \n",
       "  ╱         2                            2  2     \n",
       "╲╱  - 4⋅I_bm ⋅R_b⋅Rₘ + 4⋅I_bm⋅Rₘ⋅V_oc + k ⋅ω      \n",
       "──────────────────────────────────────────────────\n",
       "                       2⋅Rₘ                       "
      ]
     },
     "execution_count": 32,
     "metadata": {},
     "output_type": "execute_result"
    }
   ],
   "source": [
    "sympy.diff(battery_limit[0][Ic], omega)"
   ]
  },
  {
   "cell_type": "code",
   "execution_count": 33,
   "metadata": {},
   "outputs": [
    {
     "data": {
      "image/png": "[encoded data removed]",
      "text/latex": [
       "$\\displaystyle - I_{bm}^{2} R_{b} + I_{bm} V_{oc}$"
      ],
      "text/plain": [
       "      2                \n",
       "- I_bm ⋅R_b + I_bm⋅V_oc"
      ]
     },
     "execution_count": 33,
     "metadata": {},
     "output_type": "execute_result"
    }
   ],
   "source": [
    "(battery_limit[0][Ic] * battery_limit[0][Vc]).expand()"
   ]
  },
  {
   "cell_type": "code",
   "execution_count": 34,
   "metadata": {},
   "outputs": [
    {
     "data": {
      "image/png": "[encoded data removed]",
      "text/latex": [
       "$\\displaystyle \\frac{I_{sc}}{2} - \\frac{\\sqrt{- 4 I_{mm}^{2} R_{b} R_{m} + I_{sc}^{2} R_{b}^{2}}}{2 R_{b}}$"
      ],
      "text/plain": [
       "          ______________________________\n",
       "         ╱        2              2    2 \n",
       "I_sc   ╲╱  - 4⋅Iₘₘ ⋅R_b⋅Rₘ + I_sc ⋅R_b  \n",
       "──── - ─────────────────────────────────\n",
       " 2                   2⋅R_b              "
      ]
     },
     "execution_count": 34,
     "metadata": {},
     "output_type": "execute_result"
    }
   ],
   "source": [
    "phase_limit[0][Ib].subs(omega, 0).subs(Voc, Isc*Rb).expand()"
   ]
  },
  {
   "cell_type": "code",
   "execution_count": 35,
   "metadata": {},
   "outputs": [
    {
     "data": {
      "image/png": "[encoded data removed]",
      "text/latex": [
       "$\\displaystyle \\left[ \\left\\{ I_{b} : \\frac{V_{oc} - \\sqrt{- 4 I_{mm}^{2} R_{b} R_{m} + V_{oc}^{2}}}{2 R_{b}}\\right\\}, \\  \\left\\{ I_{b} : \\frac{V_{oc} + \\sqrt{- 4 I_{mm}^{2} R_{b} R_{m} + V_{oc}^{2}}}{2 R_{b}}\\right\\}\\right]$"
      ],
      "text/plain": [
       "⎡⎧               _________________________⎫  ⎧               _________________\n",
       "⎢⎪              ╱        2              2 ⎪  ⎪              ╱        2        \n",
       "⎢⎨     V_oc - ╲╱  - 4⋅Iₘₘ ⋅R_b⋅Rₘ + V_oc  ⎬  ⎨     V_oc + ╲╱  - 4⋅Iₘₘ ⋅R_b⋅Rₘ \n",
       "⎢⎪I_b: ───────────────────────────────────⎪, ⎪I_b: ───────────────────────────\n",
       "⎣⎩                    2⋅R_b               ⎭  ⎩                    2⋅R_b       \n",
       "\n",
       "________⎫⎤\n",
       "      2 ⎪⎥\n",
       "+ V_oc  ⎬⎥\n",
       "────────⎪⎥\n",
       "        ⎭⎦"
      ]
     },
     "execution_count": 35,
     "metadata": {},
     "output_type": "execute_result"
    }
   ],
   "source": [
    "sympy.solve(Rb*Ib**2 - Ib * Voc + Imm**2 * Rm, 0, Ib)"
   ]
  },
  {
   "cell_type": "code",
   "execution_count": 36,
   "metadata": {},
   "outputs": [
    {
     "data": {
      "image/png": "[encoded data removed]",
      "text/latex": [
       "$\\displaystyle \\frac{\\sqrt{- 4 I_{mm}^{2} R_{b} R_{m} + V_{oc}^{2}}}{2 R_{b}} + \\frac{V_{oc}}{2 R_{b}} + \\frac{I_{mm} k \\omega \\sqrt{- 4 I_{mm}^{2} R_{b} R_{m} + V_{oc}^{2}}}{4 I_{mm}^{2} R_{b} R_{m} - V_{oc}^{2}} - \\frac{I_{mm}^{2} R_{b} k^{2} \\omega^{2} \\sqrt{- 4 I_{mm}^{2} R_{b} R_{m} + V_{oc}^{2}}}{\\left(4 I_{mm}^{2} R_{b} R_{m} - V_{oc}^{2}\\right)^{2}} + \\frac{2 I_{mm}^{3} R_{b}^{2} k^{3} \\omega^{3} \\sqrt{- 4 I_{mm}^{2} R_{b} R_{m} + V_{oc}^{2}}}{\\left(4 I_{mm}^{2} R_{b} R_{m} - V_{oc}^{2}\\right)^{3}} - \\frac{5 I_{mm}^{4} R_{b}^{3} k^{4} \\omega^{4} \\sqrt{- 4 I_{mm}^{2} R_{b} R_{m} + V_{oc}^{2}}}{\\left(4 I_{mm}^{2} R_{b} R_{m} - V_{oc}^{2}\\right)^{4}} + \\frac{14 I_{mm}^{5} R_{b}^{4} k^{5} \\omega^{5} \\sqrt{- 4 I_{mm}^{2} R_{b} R_{m} + V_{oc}^{2}}}{\\left(4 I_{mm}^{2} R_{b} R_{m} - V_{oc}^{2}\\right)^{5}} + O\\left(\\omega^{6}\\right)$"
      ],
      "text/plain": [
       "   _________________________                      _________________________   \n",
       "  ╱        2              2                      ╱        2              2    \n",
       "╲╱  - 4⋅Iₘₘ ⋅R_b⋅Rₘ + V_oc      V_oc   Iₘₘ⋅k⋅ω⋅╲╱  - 4⋅Iₘₘ ⋅R_b⋅Rₘ + V_oc     \n",
       "──────────────────────────── + ───── + ──────────────────────────────────── - \n",
       "           2⋅R_b               2⋅R_b               2              2           \n",
       "                                              4⋅Iₘₘ ⋅R_b⋅Rₘ - V_oc            \n",
       "                                                                              \n",
       "\n",
       "                  _________________________                        ___________\n",
       "   2      2  2   ╱        2              2         3    2  3  3   ╱        2  \n",
       "Iₘₘ ⋅R_b⋅k ⋅ω ⋅╲╱  - 4⋅Iₘₘ ⋅R_b⋅Rₘ + V_oc     2⋅Iₘₘ ⋅R_b ⋅k ⋅ω ⋅╲╱  - 4⋅Iₘₘ ⋅R\n",
       "─────────────────────────────────────────── + ────────────────────────────────\n",
       "                                 2                                            \n",
       "          ⎛     2              2⎞                        ⎛     2              \n",
       "          ⎝4⋅Iₘₘ ⋅R_b⋅Rₘ - V_oc ⎠                        ⎝4⋅Iₘₘ ⋅R_b⋅Rₘ - V_oc\n",
       "\n",
       "______________                        _________________________               \n",
       "            2         4    3  4  4   ╱        2              2          5    4\n",
       "_b⋅Rₘ + V_oc     5⋅Iₘₘ ⋅R_b ⋅k ⋅ω ⋅╲╱  - 4⋅Iₘₘ ⋅R_b⋅Rₘ + V_oc     14⋅Iₘₘ ⋅R_b \n",
       "────────────── - ────────────────────────────────────────────── + ────────────\n",
       "  3                                                4                          \n",
       "2⎞                          ⎛     2              2⎞                           \n",
       " ⎠                          ⎝4⋅Iₘₘ ⋅R_b⋅Rₘ - V_oc ⎠                           \n",
       "\n",
       "          _________________________        \n",
       "  5  5   ╱        2              2         \n",
       "⋅k ⋅ω ⋅╲╱  - 4⋅Iₘₘ ⋅R_b⋅Rₘ + V_oc      ⎛ 6⎞\n",
       "─────────────────────────────────── + O⎝ω ⎠\n",
       "                       5                   \n",
       "⎛     2              2⎞                    \n",
       "⎝4⋅Iₘₘ ⋅R_b⋅Rₘ - V_oc ⎠                    "
      ]
     },
     "execution_count": 36,
     "metadata": {},
     "output_type": "execute_result"
    }
   ],
   "source": [
    "sympy.series(phase_limit[1][Ib], omega)"
   ]
  },
  {
   "cell_type": "code",
   "execution_count": null,
   "metadata": {},
   "outputs": [],
   "source": []
  }
 ],
 "metadata": {
  "kernelspec": {
   "display_name": "Python 3 (ipykernel)",
   "language": "python",
   "name": "python3"
  },
  "language_info": {
   "codemirror_mode": {
    "name": "ipython",
    "version": 3
   },
   "file_extension": ".py",
   "mimetype": "text/x-python",
   "name": "python",
   "nbconvert_exporter": "python",
   "pygments_lexer": "ipython3",
   "version": "3.9.5"
  }
 },
 "nbformat": 4,
 "nbformat_minor": 4
}
