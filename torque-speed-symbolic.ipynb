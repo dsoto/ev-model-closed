{
 "cells": [
  {
   "cell_type": "code",
   "execution_count": 1,
   "metadata": {},
   "outputs": [],
   "source": [
    "import sympy \n",
    "sympy.init_printing()"
   ]
  },
  {
   "cell_type": "markdown",
   "metadata": {},
   "source": [
    "Here we define variables and set up equations."
   ]
  },
  {
   "cell_type": "code",
   "execution_count": 2,
   "metadata": {},
   "outputs": [],
   "source": [
    "# symbols used\n",
    "Ib = sympy.symbols('I_b', nonnegative=True)\n",
    "Ic = sympy.symbols('I_c', nonnegative=True)                       # peak \n",
    "Vb = sympy.symbols('V_b')\n",
    "Vc = sympy.symbols('V_c')                       # peak, phase to neutral\n",
    "Rm = sympy.symbols('R_m', positive=True)                       # single phase motor resistance\n",
    "k = sympy.symbols('k', positive=True)                          # phase to neutral\n",
    "omega = sympy.symbols('omega', positive = True)\n",
    "Rb = sympy.symbols('R_b', positive=True)\n",
    "Voc = sympy.symbols('V_oc', positive=True)\n",
    "Imm = sympy.symbols('I_mm')\n",
    "Ibm = sympy.symbols('I_bm')\n",
    "torque = sympy.symbols('tau')\n",
    "\n",
    "# governing equations\n",
    "battery_loop = sympy.Eq(Voc, Ib * Rb + Vb)\n",
    "power_eq = sympy.Eq(Vb * Ib, Vc * Ic)\n",
    "controller_loop = sympy.Eq(Vc, Ic * Rm + k * omega)\n",
    "regime_1 = sympy.Eq(Ic, Imm)\n",
    "regime_2 = sympy.Eq(Ib, Ibm)\n",
    "regime_3 = sympy.Eq(Vb, Vc)\n",
    "\n",
    "is_three_phase = False\n",
    "\n",
    "if is_three_phase == True:\n",
    "    power_eq = sympy.Eq(Vb * Ib, sympy.Rational(3/2) * Vc * Ic)\n",
    "    controller_loop = sympy.Eq(Vc, Ic * Rm + k * omega / sympy.sqrt(3))\n",
    "    regime_3 = sympy.Eq(Vb, sympy.sqrt(3) * Vc)\n",
    "\n",
    "\n",
    "# numbers for numerical evaluation\n",
    "ev_system = {Rb: 0.120, Voc:50, Imm: 150, Ibm:100, Rm: 0.128, k:1.0}"
   ]
  },
  {
   "cell_type": "markdown",
   "metadata": {},
   "source": [
    "We model the section where the controller is at max motor current by using the regime 1 equation and solving."
   ]
  },
  {
   "cell_type": "code",
   "execution_count": 3,
   "metadata": {},
   "outputs": [
    {
     "data": {
      "image/png": "[encoded data removed]",
      "text/latex": [
       "$\\displaystyle \\left[ \\left\\{ I_{b} : \\frac{V_{oc} - \\sqrt{- 4 I_{mm}^{2} R_{b} R_{m} - 4 I_{mm} R_{b} k \\omega + V_{oc}^{2}}}{2 R_{b}}, \\  I_{c} : I_{mm}, \\  V_{b} : \\frac{V_{oc}}{2} + \\frac{\\sqrt{- 4 I_{mm}^{2} R_{b} R_{m} - 4 I_{mm} R_{b} k \\omega + V_{oc}^{2}}}{2}, \\  V_{c} : I_{mm} R_{m} + k \\omega\\right\\}, \\  \\left\\{ I_{b} : \\frac{V_{oc} + \\sqrt{- 4 I_{mm}^{2} R_{b} R_{m} - 4 I_{mm} R_{b} k \\omega + V_{oc}^{2}}}{2 R_{b}}, \\  I_{c} : I_{mm}, \\  V_{b} : \\frac{V_{oc}}{2} - \\frac{\\sqrt{- 4 I_{mm}^{2} R_{b} R_{m} - 4 I_{mm} R_{b} k \\omega + V_{oc}^{2}}}{2}, \\  V_{c} : I_{mm} R_{m} + k \\omega\\right\\}\\right]$"
      ],
      "text/plain": [
       "⎡⎧               _________________________________________                    \n",
       "⎢⎪              ╱        2                              2                     \n",
       "⎢⎨     V_oc - ╲╱  - 4⋅Iₘₘ ⋅R_b⋅Rₘ - 4⋅Iₘₘ⋅R_b⋅k⋅ω + V_oc                   V_o\n",
       "⎢⎪I_b: ───────────────────────────────────────────────────, I_c: Iₘₘ, V_b: ───\n",
       "⎣⎩                            2⋅R_b                                         2 \n",
       "\n",
       "       _________________________________________                   ⎫  ⎧       \n",
       "      ╱        2                              2                    ⎪  ⎪       \n",
       "c   ╲╱  - 4⋅Iₘₘ ⋅R_b⋅Rₘ - 4⋅Iₘₘ⋅R_b⋅k⋅ω + V_oc                     ⎬  ⎨     V_\n",
       "─ + ────────────────────────────────────────────, V_c: Iₘₘ⋅Rₘ + k⋅ω⎪, ⎪I_b: ──\n",
       "                         2                                         ⎭  ⎩       \n",
       "\n",
       "        _________________________________________                           __\n",
       "       ╱        2                              2                           ╱  \n",
       "oc + ╲╱  - 4⋅Iₘₘ ⋅R_b⋅Rₘ - 4⋅Iₘₘ⋅R_b⋅k⋅ω + V_oc                   V_oc   ╲╱  -\n",
       "─────────────────────────────────────────────────, I_c: Iₘₘ, V_b: ──── - ─────\n",
       "                     2⋅R_b                                         2          \n",
       "\n",
       "_______________________________________                   ⎫⎤\n",
       "      2                              2                    ⎪⎥\n",
       " 4⋅Iₘₘ ⋅R_b⋅Rₘ - 4⋅Iₘₘ⋅R_b⋅k⋅ω + V_oc                     ⎬⎥\n",
       "───────────────────────────────────────, V_c: Iₘₘ⋅Rₘ + k⋅ω⎪⎥\n",
       "                2                                         ⎭⎦"
      ]
     },
     "execution_count": 3,
     "metadata": {},
     "output_type": "execute_result"
    }
   ],
   "source": [
    "constant_torque = sympy.solve([power_eq, battery_loop, controller_loop, regime_1], exclude=[Rb, Rm, k, Imm, Voc])\n",
    "constant_torque "
   ]
  },
  {
   "cell_type": "markdown",
   "metadata": {},
   "source": [
    "We expect the battery current to increase as omega increases (positive derivative) so we select the first equation.\n",
    "We see that this derivative is positive but will be imaginary for some combinations of variables."
   ]
  },
  {
   "cell_type": "code",
   "execution_count": 4,
   "metadata": {},
   "outputs": [
    {
     "data": {
      "image/png": "[encoded data removed]",
      "text/latex": [
       "$\\displaystyle \\frac{I_{mm} k}{\\sqrt{- 4 I_{mm}^{2} R_{b} R_{m} - 4 I_{mm} R_{b} k \\omega + V_{oc}^{2}}}$"
      ],
      "text/plain": [
       "                   Iₘₘ⋅k                    \n",
       "────────────────────────────────────────────\n",
       "   _________________________________________\n",
       "  ╱        2                              2 \n",
       "╲╱  - 4⋅Iₘₘ ⋅R_b⋅Rₘ - 4⋅Iₘₘ⋅R_b⋅k⋅ω + V_oc  "
      ]
     },
     "execution_count": 4,
     "metadata": {},
     "output_type": "execute_result"
    }
   ],
   "source": [
    "sympy.diff(constant_torque[0][Ib], omega)"
   ]
  },
  {
   "cell_type": "markdown",
   "metadata": {},
   "source": [
    "# Conditions of Validity for Battery Current Equation in Constant Torque Region"
   ]
  },
  {
   "cell_type": "markdown",
   "metadata": {},
   "source": [
    "There is a motor speed at which the battery current has no real solution.\n",
    "This should reflect when the battery power exceeds its limit set by the open circuit voltage and the internal resistance.\n",
    "\n",
    "Q: can I show that the battery current at the speed is one-half the short circuit current?"
   ]
  },
  {
   "cell_type": "code",
   "execution_count": 5,
   "metadata": {},
   "outputs": [
    {
     "data": {
      "image/png": "[encoded data removed]",
      "text/latex": [
       "$\\displaystyle \\left[ \\left\\{ \\omega : - \\frac{I_{mm} R_{m}}{k} + \\frac{V_{oc}^{2}}{4 I_{mm} R_{b} k}\\right\\}\\right]$"
      ],
      "text/plain": [
       "⎡⎧                     2   ⎫⎤\n",
       "⎢⎪     Iₘₘ⋅Rₘ      V_oc    ⎪⎥\n",
       "⎢⎨ω: - ────── + ───────────⎬⎥\n",
       "⎢⎪       k      4⋅Iₘₘ⋅R_b⋅k⎪⎥\n",
       "⎣⎩                         ⎭⎦"
      ]
     },
     "execution_count": 5,
     "metadata": {},
     "output_type": "execute_result"
    }
   ],
   "source": [
    "radical = constant_torque[0][Ib].args[2].args[1].args[1].args[0]\n",
    "sympy.solve(radical, 0, omega)"
   ]
  },
  {
   "cell_type": "markdown",
   "metadata": {},
   "source": [
    "This numerical value of 13.24 roughly agrees with my expectations."
   ]
  },
  {
   "cell_type": "code",
   "execution_count": 6,
   "metadata": {},
   "outputs": [
    {
     "data": {
      "image/png": "[encoded data removed]",
      "text/latex": [
       "$\\displaystyle 13.2416666666667$"
      ],
      "text/plain": [
       "13.2416666666667"
      ]
     },
     "execution_count": 6,
     "metadata": {},
     "output_type": "execute_result"
    }
   ],
   "source": [
    "ev_system = {Voc:50, Imm: 200, Ibm:300, Rb: 0.120, Rm: 0.064, k:1.0}\n",
    "sympy.solve(radical, 0, omega)[0][omega].evalf(subs=ev_system)"
   ]
  },
  {
   "cell_type": "markdown",
   "metadata": {},
   "source": [
    "By substituting the speed at which the radical goes imaginary, we find this occurs when the battery current is at half of the short circuit current, as we expect.\n",
    "\n",
    "Q: does this change in the 3-phase case?"
   ]
  },
  {
   "cell_type": "code",
   "execution_count": 7,
   "metadata": {},
   "outputs": [
    {
     "data": {
      "image/png": "[encoded data removed]",
      "text/latex": [
       "$\\displaystyle \\frac{V_{oc}}{2 R_{b}}$"
      ],
      "text/plain": [
       " V_oc\n",
       "─────\n",
       "2⋅R_b"
      ]
     },
     "execution_count": 7,
     "metadata": {},
     "output_type": "execute_result"
    }
   ],
   "source": [
    "omega_max_power = sympy.solve(radical, 0, omega)[0][omega]\n",
    "constant_torque[0][Ib].subs(omega, omega_max_power).simplify()"
   ]
  },
  {
   "cell_type": "markdown",
   "metadata": {},
   "source": [
    "If the maximum motor current is high enough, the battery will not be able to satisfy it.\n",
    "I expect that the value in the radical for the battery current equation will go below zero in this case."
   ]
  },
  {
   "cell_type": "code",
   "execution_count": 8,
   "metadata": {},
   "outputs": [
    {
     "data": {
      "image/png": "[encoded data removed]",
      "text/latex": [
       "$\\displaystyle \\left[ \\left\\{ I_{mm} : - \\frac{k \\omega}{2 R_{m}} - \\frac{\\sqrt{R_{b} k^{2} \\omega^{2} + R_{m} V_{oc}^{2}}}{2 \\sqrt{R_{b}} R_{m}}\\right\\}, \\  \\left\\{ I_{mm} : - \\frac{k \\omega}{2 R_{m}} + \\frac{\\sqrt{R_{b} k^{2} \\omega^{2} + R_{m} V_{oc}^{2}}}{2 \\sqrt{R_{b}} R_{m}}\\right\\}\\right]$"
      ],
      "text/plain": [
       "⎡⎧                 ______________________⎫  ⎧                 ________________\n",
       "⎢⎪                ╱      2  2          2 ⎪  ⎪                ╱      2  2      \n",
       "⎢⎪       k⋅ω    ╲╱  R_b⋅k ⋅ω  + Rₘ⋅V_oc  ⎪  ⎪       k⋅ω    ╲╱  R_b⋅k ⋅ω  + Rₘ⋅\n",
       "⎢⎨Iₘₘ: - ──── - ─────────────────────────⎬, ⎨Iₘₘ: - ──── + ───────────────────\n",
       "⎢⎪       2⋅Rₘ              _____         ⎪  ⎪       2⋅Rₘ              _____   \n",
       "⎢⎪                     2⋅╲╱ R_b ⋅Rₘ      ⎪  ⎪                     2⋅╲╱ R_b ⋅Rₘ\n",
       "⎣⎩                                       ⎭  ⎩                                 \n",
       "\n",
       "______⎫⎤\n",
       "    2 ⎪⎥\n",
       "V_oc  ⎪⎥\n",
       "──────⎬⎥\n",
       "      ⎪⎥\n",
       "      ⎪⎥\n",
       "      ⎭⎦"
      ]
     },
     "execution_count": 8,
     "metadata": {},
     "output_type": "execute_result"
    }
   ],
   "source": [
    "radical = constant_torque[0][Ib].args[2].args[1].args[1].args[0]\n",
    "sympy.solve(radical, 0, Imm)"
   ]
  },
  {
   "cell_type": "code",
   "execution_count": 9,
   "metadata": {},
   "outputs": [
    {
     "data": {
      "image/png": "[encoded data removed]",
      "text/latex": [
       "$\\displaystyle 285.272165367274$"
      ],
      "text/plain": [
       "285.272165367274"
      ]
     },
     "execution_count": 9,
     "metadata": {},
     "output_type": "execute_result"
    }
   ],
   "source": [
    "sympy.solve(radical, 0, Imm)[1][Imm].subs(omega, 0).evalf(subs=ev_system)"
   ]
  },
  {
   "cell_type": "markdown",
   "metadata": {},
   "source": [
    "We are interested in what battery current is necessary for the controller current at zero rpm.\n",
    "A maximum battery current below this will constrain the operation of the system. \n",
    "\n"
   ]
  },
  {
   "cell_type": "code",
   "execution_count": 10,
   "metadata": {},
   "outputs": [
    {
     "data": {
      "image/png": "[encoded data removed]",
      "text/latex": [
       "$\\displaystyle \\frac{V_{oc} - \\sqrt{- 4 I_{mm}^{2} R_{b} R_{m} + V_{oc}^{2}}}{2 R_{b}}$"
      ],
      "text/plain": [
       "          _________________________\n",
       "         ╱        2              2 \n",
       "V_oc - ╲╱  - 4⋅Iₘₘ ⋅R_b⋅Rₘ + V_oc  \n",
       "───────────────────────────────────\n",
       "               2⋅R_b               "
      ]
     },
     "execution_count": 10,
     "metadata": {},
     "output_type": "execute_result"
    }
   ],
   "source": [
    "constant_torque[0][Ib].subs(omega, 0)"
   ]
  },
  {
   "cell_type": "markdown",
   "metadata": {},
   "source": [
    "We also note that the maximum current possible is when the square root equals zero.\n",
    "This looks like the short circuit dissipated power in the battery equals four times the motor resistive dissipation at max controller current."
   ]
  },
  {
   "cell_type": "code",
   "execution_count": 11,
   "metadata": {},
   "outputs": [
    {
     "data": {
      "image/png": "[encoded data removed]",
      "text/latex": [
       "$\\displaystyle - 4 I_{mm}^{2} R_{b} R_{m} + V_{oc}^{2}$"
      ],
      "text/plain": [
       "       2              2\n",
       "- 4⋅Iₘₘ ⋅R_b⋅Rₘ + V_oc "
      ]
     },
     "execution_count": 11,
     "metadata": {},
     "output_type": "execute_result"
    }
   ],
   "source": [
    "constant_torque[0][Ib].subs(omega, 0).args[2].args[1].args[1].args[0]"
   ]
  },
  {
   "cell_type": "markdown",
   "metadata": {},
   "source": [
    "TODO: unify this result and explanation with those for the equation above"
   ]
  },
  {
   "cell_type": "code",
   "execution_count": 12,
   "metadata": {},
   "outputs": [
    {
     "data": {
      "image/png": "[encoded data removed]",
      "text/latex": [
       "$\\displaystyle 285.272165367274$"
      ],
      "text/plain": [
       "285.272165367274"
      ]
     },
     "execution_count": 12,
     "metadata": {},
     "output_type": "execute_result"
    }
   ],
   "source": [
    "sympy.solve(constant_torque[0][Ib].subs(omega, 0).args[2].args[1].args[1].args[0], 0, Imm)[1][Imm].evalf(subs=ev_system)"
   ]
  },
  {
   "cell_type": "markdown",
   "metadata": {},
   "source": [
    "We can express this current in terms of the battery's short circuit current, $I_{sc} = V_{oc}/R_b$ and the power being dissipated in the resistor at maximum current, $P_{rm} = I_{mm}^2 R_m$.\n",
    "\n",
    "For an ideal voltage source ($R_b = 0$), this should equal the motor resistor dissipation power divided by the battery voltage. "
   ]
  },
  {
   "cell_type": "code",
   "execution_count": 13,
   "metadata": {},
   "outputs": [
    {
     "data": {
      "image/png": "[encoded data removed]",
      "text/latex": [
       "$\\displaystyle \\frac{I_{sc} R_{b} - \\sqrt{I_{sc}^{2} R_{b}^{2} - 4 P_{rm} R_{b}}}{2 R_{b}}$"
      ],
      "text/plain": [
       "              ________________________\n",
       "             ╱     2    2             \n",
       "I_sc⋅R_b - ╲╱  I_sc ⋅R_b  - 4⋅Pᵣₘ⋅R_b \n",
       "──────────────────────────────────────\n",
       "                2⋅R_b                 "
      ]
     },
     "execution_count": 13,
     "metadata": {},
     "output_type": "execute_result"
    }
   ],
   "source": [
    "omeganl = sympy.Symbol('omega_nl')\n",
    "Isc = sympy.Symbol('I_sc', positive=True)\n",
    "Prm = sympy.Symbol('P_rm', positive=True)\n",
    "# collect, expand, simplify, together\n",
    "constant_torque[0][Ib].subs(omega, 0).subs(Voc, Isc*Rb).subs(Imm**2*Rm, Prm)"
   ]
  },
  {
   "cell_type": "markdown",
   "metadata": {},
   "source": [
    "In the constant power region, the battery current and voltage are constant and we can solve for the controller current and voltage."
   ]
  },
  {
   "cell_type": "code",
   "execution_count": 14,
   "metadata": {},
   "outputs": [
    {
     "data": {
      "image/png": "[encoded data removed]",
      "text/latex": [
       "$\\displaystyle \\left[ \\left\\{ I_{b} : I_{bm}, \\  I_{c} : \\frac{- k \\omega + \\sqrt{- 4 I_{bm}^{2} R_{b} R_{m} + 4 I_{bm} R_{m} V_{oc} + k^{2} \\omega^{2}}}{2 R_{m}}, \\  V_{b} : - I_{bm} R_{b} + V_{oc}, \\  V_{c} : \\frac{k \\omega}{2} + \\frac{\\sqrt{- 4 I_{bm}^{2} R_{b} R_{m} + 4 I_{bm} R_{m} V_{oc} + k^{2} \\omega^{2}}}{2}\\right\\}, \\  \\left\\{ I_{b} : I_{bm}, \\  I_{c} : - \\frac{k \\omega + \\sqrt{- 4 I_{bm}^{2} R_{b} R_{m} + 4 I_{bm} R_{m} V_{oc} + k^{2} \\omega^{2}}}{2 R_{m}}, \\  V_{b} : - I_{bm} R_{b} + V_{oc}, \\  V_{c} : \\frac{k \\omega}{2} - \\frac{\\sqrt{- 4 I_{bm}^{2} R_{b} R_{m} + 4 I_{bm} R_{m} V_{oc} + k^{2} \\omega^{2}}}{2}\\right\\}\\right]$"
      ],
      "text/plain": [
       "⎡⎧                          ___________________________________________       \n",
       "⎢⎪                         ╱         2                            2  2        \n",
       "⎢⎨                -k⋅ω + ╲╱  - 4⋅I_bm ⋅R_b⋅Rₘ + 4⋅I_bm⋅Rₘ⋅V_oc + k ⋅ω         \n",
       "⎢⎪I_b: I_bm, I_c: ─────────────────────────────────────────────────────, V_b: \n",
       "⎣⎩                                         2⋅Rₘ                               \n",
       "\n",
       "                                ___________________________________________⎫  \n",
       "                               ╱         2                            2  2 ⎪  \n",
       "                       k⋅ω   ╲╱  - 4⋅I_bm ⋅R_b⋅Rₘ + 4⋅I_bm⋅Rₘ⋅V_oc + k ⋅ω  ⎬  \n",
       "-I_bm⋅R_b + V_oc, V_c: ─── + ──────────────────────────────────────────────⎪, \n",
       "                        2                          2                       ⎭  \n",
       "\n",
       "⎧                 ⎛         ___________________________________________⎞      \n",
       "⎪                 ⎜        ╱         2                            2  2 ⎟      \n",
       "⎨                -⎝k⋅ω + ╲╱  - 4⋅I_bm ⋅R_b⋅Rₘ + 4⋅I_bm⋅Rₘ⋅V_oc + k ⋅ω  ⎠      \n",
       "⎪I_b: I_bm, I_c: ────────────────────────────────────────────────────────, V_b\n",
       "⎩                                          2⋅Rₘ                               \n",
       "\n",
       "                                  ___________________________________________⎫\n",
       "                                 ╱         2                            2  2 ⎪\n",
       "                         k⋅ω   ╲╱  - 4⋅I_bm ⋅R_b⋅Rₘ + 4⋅I_bm⋅Rₘ⋅V_oc + k ⋅ω  ⎬\n",
       ": -I_bm⋅R_b + V_oc, V_c: ─── - ──────────────────────────────────────────────⎪\n",
       "                          2                          2                       ⎭\n",
       "\n",
       "⎤\n",
       "⎥\n",
       "⎥\n",
       "⎥\n",
       "⎦"
      ]
     },
     "execution_count": 14,
     "metadata": {},
     "output_type": "execute_result"
    }
   ],
   "source": [
    "constant_power = sympy.solve([power_eq, battery_loop, controller_loop, regime_2], exclude=[Rb, Rm, k, Ibm, Voc])\n",
    "constant_power\n",
    "#sympy.diff(battery_limit[0][Ic], omega) "
   ]
  },
  {
   "cell_type": "markdown",
   "metadata": {},
   "source": [
    "We select the equation that has a positive motor current."
   ]
  },
  {
   "cell_type": "code",
   "execution_count": 15,
   "metadata": {},
   "outputs": [
    {
     "data": {
      "image/png": "[encoded data removed]",
      "text/latex": [
       "$\\displaystyle \\frac{- k \\omega + \\sqrt{- 4 I_{bm}^{2} R_{b} R_{m} + 4 I_{bm} R_{m} V_{oc} + k^{2} \\omega^{2}}}{2 R_{m}}$"
      ],
      "text/plain": [
       "          ___________________________________________\n",
       "         ╱         2                            2  2 \n",
       "-k⋅ω + ╲╱  - 4⋅I_bm ⋅R_b⋅Rₘ + 4⋅I_bm⋅Rₘ⋅V_oc + k ⋅ω  \n",
       "─────────────────────────────────────────────────────\n",
       "                         2⋅Rₘ                        "
      ]
     },
     "execution_count": 15,
     "metadata": {},
     "output_type": "execute_result"
    }
   ],
   "source": [
    "constant_power[0][Ic]"
   ]
  },
  {
   "cell_type": "markdown",
   "metadata": {},
   "source": [
    "TODO: under what conditions will this controller current equation fail?"
   ]
  },
  {
   "cell_type": "code",
   "execution_count": 16,
   "metadata": {},
   "outputs": [
    {
     "data": {
      "image/png": "[encoded data removed]",
      "text/latex": [
       "$\\displaystyle \\left[ \\left\\{ \\omega : - \\frac{2 \\sqrt{R_{m}} \\sqrt{I_{bm} \\left(I_{bm} R_{b} - V_{oc}\\right)}}{k}\\right\\}, \\  \\left\\{ \\omega : \\frac{2 \\sqrt{R_{m}} \\sqrt{I_{bm} \\left(I_{bm} R_{b} - V_{oc}\\right)}}{k}\\right\\}\\right]$"
      ],
      "text/plain": [
       "⎡⎧        ____   ________________________ ⎫  ⎧       ____   __________________\n",
       "⎢⎪   -2⋅╲╱ Rₘ ⋅╲╱ I_bm⋅(I_bm⋅R_b - V_oc)  ⎪  ⎪   2⋅╲╱ Rₘ ⋅╲╱ I_bm⋅(I_bm⋅R_b - \n",
       "⎢⎨ω: ─────────────────────────────────────⎬, ⎨ω: ─────────────────────────────\n",
       "⎢⎪                     k                  ⎪  ⎪                    k           \n",
       "⎣⎩                                        ⎭  ⎩                                \n",
       "\n",
       "______⎫⎤\n",
       "V_oc) ⎪⎥\n",
       "──────⎬⎥\n",
       "      ⎪⎥\n",
       "      ⎭⎦"
      ]
     },
     "execution_count": 16,
     "metadata": {},
     "output_type": "execute_result"
    }
   ],
   "source": [
    "# this is the Ibm at which the radical goes negative\n",
    "sympy.solve(constant_power[0][Ic].args[2].args[0].args[0], 0, omega)"
   ]
  },
  {
   "cell_type": "code",
   "execution_count": 17,
   "metadata": {},
   "outputs": [
    {
     "data": {
      "image/png": "[encoded data removed]",
      "text/latex": [
       "$\\displaystyle 32.7902424510707 i$"
      ],
      "text/plain": [
       "32.7902424510707⋅ⅈ"
      ]
     },
     "execution_count": 17,
     "metadata": {},
     "output_type": "execute_result"
    }
   ],
   "source": [
    "sympy.solve(constant_power[0][Ic].args[2].args[0].args[0], 0, omega)[1][omega].evalf(subs=ev_system)"
   ]
  },
  {
   "cell_type": "markdown",
   "metadata": {},
   "source": [
    "At some point, the motor is spinning fast enough that the battery current will fall below maximum.\n",
    "Above this RPM, the duty cycle will be at max so the controller voltage will equal the battery voltage.\n",
    "Solving we get the following equations."
   ]
  },
  {
   "cell_type": "code",
   "execution_count": 18,
   "metadata": {},
   "outputs": [
    {
     "data": {
      "image/png": "[encoded data removed]",
      "text/latex": [
       "$\\displaystyle \\left[ \\left\\{ I_{b} : - \\frac{- V_{oc} + k \\omega}{R_{b} + R_{m}}, \\  I_{c} : - \\frac{- V_{oc} + k \\omega}{R_{b} + R_{m}}, \\  V_{b} : \\frac{R_{b} k \\omega + R_{m} V_{oc}}{R_{b} + R_{m}}, \\  V_{c} : \\frac{R_{b} k \\omega + R_{m} V_{oc}}{R_{b} + R_{m}}\\right\\}\\right]$"
      ],
      "text/plain": [
       "⎡⎧     -(-V_oc + k⋅ω)        -(-V_oc + k⋅ω)        R_b⋅k⋅ω + Rₘ⋅V_oc       R_b\n",
       "⎢⎨I_b: ───────────────, I_c: ───────────────, V_b: ─────────────────, V_c: ───\n",
       "⎣⎩         R_b + Rₘ              R_b + Rₘ               R_b + Rₘ              \n",
       "\n",
       "⋅k⋅ω + Rₘ⋅V_oc⎫⎤\n",
       "──────────────⎬⎥\n",
       "  R_b + Rₘ    ⎭⎦"
      ]
     },
     "execution_count": 18,
     "metadata": {},
     "output_type": "execute_result"
    }
   ],
   "source": [
    "duty_limit = sympy.solve([power_eq, battery_loop, controller_loop, regime_3], exclude=[Rb, Rm, k, Voc])\n",
    "duty_limit"
   ]
  },
  {
   "cell_type": "code",
   "execution_count": 19,
   "metadata": {},
   "outputs": [
    {
     "data": {
      "image/png": "[encoded data removed]",
      "text/latex": [
       "$\\displaystyle \\left\\{ I_{b} : - \\frac{- V_{oc} + k \\omega}{R_{b} + R_{m}}, \\  I_{c} : - \\frac{- V_{oc} + k \\omega}{R_{b} + R_{m}}, \\  V_{b} : \\frac{R_{b} k \\omega + R_{m} V_{oc}}{R_{b} + R_{m}}, \\  V_{c} : \\frac{R_{b} k \\omega + R_{m} V_{oc}}{R_{b} + R_{m}}\\right\\}$"
      ],
      "text/plain": [
       "⎧     -(-V_oc + k⋅ω)        -(-V_oc + k⋅ω)        R_b⋅k⋅ω + Rₘ⋅V_oc       R_b⋅\n",
       "⎨I_b: ───────────────, I_c: ───────────────, V_b: ─────────────────, V_c: ────\n",
       "⎩         R_b + Rₘ              R_b + Rₘ               R_b + Rₘ               \n",
       "\n",
       "k⋅ω + Rₘ⋅V_oc⎫\n",
       "─────────────⎬\n",
       " R_b + Rₘ    ⎭"
      ]
     },
     "execution_count": 19,
     "metadata": {},
     "output_type": "execute_result"
    }
   ],
   "source": [
    "duty_limit[0]"
   ]
  },
  {
   "cell_type": "markdown",
   "metadata": {},
   "source": [
    "The no load speed occurs when the battery or controller current reaches zero at the expected frequency of the open-circuit voltage divided by the voltage constant."
   ]
  },
  {
   "cell_type": "code",
   "execution_count": 20,
   "metadata": {},
   "outputs": [
    {
     "data": {
      "image/png": "[encoded data removed]",
      "text/latex": [
       "$\\displaystyle \\left[ \\frac{V_{oc}}{k}\\right]$"
      ],
      "text/plain": [
       "⎡V_oc⎤\n",
       "⎢────⎥\n",
       "⎣ k  ⎦"
      ]
     },
     "execution_count": 20,
     "metadata": {},
     "output_type": "execute_result"
    }
   ],
   "source": [
    "# no load speed is when Ib and Ic = 0, Vb = Voc, and Vc = Voc/sqrt(3)\n",
    "no_load_speed = sympy.solve(sympy.Eq(duty_limit[0][Ib], 0), omega)\n",
    "no_load_speed"
   ]
  },
  {
   "cell_type": "markdown",
   "metadata": {},
   "source": [
    "- TODO: at what omega do we switch from max controller current to max battery current?\n",
    "- TODO: at what omega do we switch from max battery current to 100% duty cycle?\n",
    "- TODO: what intuitive model explains the 100% duty cycle thing?\n",
    "- TODO: what is the maximum controller current I can reach? How does it depend on my other parameters?"
   ]
  },
  {
   "cell_type": "markdown",
   "metadata": {},
   "source": [
    "We can find the frequency at which the battery current reaches maximum by setting the battery current in the phase-current-limited regime to the battery current maximum. \n",
    "\n",
    "*The expression resembles a speed for a controller voltage calculated from the voltage drops at the maximum currents. \n",
    "Note, the scaling factors might be equivalent to the duty cycles.*\n",
    "\n",
    "TODO: think about how the input voltage will appear on the other side of the controller according to the ratio of the currents.\n",
    "\n",
    "Takeaway: to raise crossover frequency, raise max battery current and lower battery internal resistance.\n",
    "However, the battery resistance must be low enough to offset the squaring of the battery current.\n",
    "\n",
    "TODO: is there an optimum battery current? figure this out by differentiating this equation with respect to battery current and setting to zero."
   ]
  },
  {
   "cell_type": "code",
   "execution_count": 21,
   "metadata": {},
   "outputs": [
    {
     "data": {
      "image/png": "[encoded data removed]",
      "text/latex": [
       "$\\displaystyle \\frac{- I_{bm}^{2} R_{b} + I_{bm} V_{oc} - I_{mm}^{2} R_{m}}{I_{mm} k}$"
      ],
      "text/plain": [
       "      2                      2   \n",
       "- I_bm ⋅R_b + I_bm⋅V_oc - Iₘₘ ⋅Rₘ\n",
       "─────────────────────────────────\n",
       "              Iₘₘ⋅k              "
      ]
     },
     "execution_count": 21,
     "metadata": {},
     "output_type": "execute_result"
    }
   ],
   "source": [
    "sympy.solve(sympy.Eq(constant_torque[0][Ib], Ibm), omega)[0]"
   ]
  },
  {
   "cell_type": "markdown",
   "metadata": {},
   "source": [
    "It looks like setting the battery maximum current to half of the short circuit current will extend the frequency as much as possible.\n",
    "\n",
    "TODO: what happens physically and mathematically if the battery current goes above half of the short circuit current? \n",
    "We'll be past the maximum power transfer point, I think."
   ]
  },
  {
   "cell_type": "code",
   "execution_count": 22,
   "metadata": {},
   "outputs": [
    {
     "data": {
      "image/png": "[encoded data removed]",
      "text/latex": [
       "$\\displaystyle \\left[ \\left\\{ I_{bm} : \\frac{V_{oc}}{2 R_{b}}\\right\\}\\right]$"
      ],
      "text/plain": [
       "⎡⎧       V_oc⎫⎤\n",
       "⎢⎨I_bm: ─────⎬⎥\n",
       "⎣⎩      2⋅R_b⎭⎦"
      ]
     },
     "execution_count": 22,
     "metadata": {},
     "output_type": "execute_result"
    }
   ],
   "source": [
    "sympy.solve(sympy.diff(sympy.solve(sympy.Eq(constant_torque[0][Ib], Ibm), omega)[0], Ibm), 0, Ibm)"
   ]
  },
  {
   "cell_type": "markdown",
   "metadata": {},
   "source": [
    "We can find the frequency at which the constant power regime ends by setting the controller currents equal in the constant power region and the BEMF region.\n",
    "\n",
    "TODO: won't we get the same result from setting the voltages equal?"
   ]
  },
  {
   "cell_type": "code",
   "execution_count": 23,
   "metadata": {},
   "outputs": [
    {
     "data": {
      "image/png": "[encoded data removed]",
      "text/latex": [
       "$\\displaystyle \\left[ \\frac{- I_{bm} R_{b} - I_{bm} R_{m} + V_{oc}}{k}, \\  \\frac{I_{bm} R_{b}^{2} + I_{bm} R_{b} R_{m} - R_{m} V_{oc}}{R_{b} k}\\right]$"
      ],
      "text/plain": [
       "⎡                                    2                        ⎤\n",
       "⎢-I_bm⋅R_b - I_bm⋅Rₘ + V_oc  I_bm⋅R_b  + I_bm⋅R_b⋅Rₘ - Rₘ⋅V_oc⎥\n",
       "⎢──────────────────────────, ─────────────────────────────────⎥\n",
       "⎣            k                             R_b⋅k              ⎦"
      ]
     },
     "execution_count": 23,
     "metadata": {},
     "output_type": "execute_result"
    }
   ],
   "source": [
    "# what is omega crossover for duty cycle regime\n",
    "sympy.solve(sympy.Eq(constant_power[0][Ic], duty_limit[0][Ic]), omega)"
   ]
  },
  {
   "cell_type": "markdown",
   "metadata": {},
   "source": [
    "Maximum controller current at zero rpm."
   ]
  },
  {
   "cell_type": "code",
   "execution_count": 24,
   "metadata": {},
   "outputs": [
    {
     "data": {
      "image/png": "[encoded data removed]",
      "text/latex": [
       "$\\displaystyle \\frac{\\sqrt{- 4 I_{bm}^{2} R_{b} R_{m} + 4 I_{bm} R_{m} V_{oc}}}{2 R_{m}}$"
      ],
      "text/plain": [
       "   ___________________________________\n",
       "  ╱         2                         \n",
       "╲╱  - 4⋅I_bm ⋅R_b⋅Rₘ + 4⋅I_bm⋅Rₘ⋅V_oc \n",
       "──────────────────────────────────────\n",
       "                 2⋅Rₘ                 "
      ]
     },
     "execution_count": 24,
     "metadata": {},
     "output_type": "execute_result"
    }
   ],
   "source": [
    "constant_power[0][Ic].subs(omega, 0)"
   ]
  },
  {
   "cell_type": "markdown",
   "metadata": {},
   "source": [
    "The maximum controller current is possible when the maximum battery current is half the short circuit current"
   ]
  },
  {
   "cell_type": "code",
   "execution_count": 25,
   "metadata": {},
   "outputs": [
    {
     "data": {
      "image/png": "[encoded data removed]",
      "text/latex": [
       "$\\displaystyle \\left\\{ I_{bm} : \\frac{V_{oc}}{2 R_{b}}\\right\\}$"
      ],
      "text/plain": [
       "⎧       V_oc⎫\n",
       "⎨I_bm: ─────⎬\n",
       "⎩      2⋅R_b⎭"
      ]
     },
     "execution_count": 25,
     "metadata": {},
     "output_type": "execute_result"
    }
   ],
   "source": [
    "sympy.solve(constant_power[0][Ic].subs(omega, 0).diff(Ibm), 0, Ibm)"
   ]
  },
  {
   "cell_type": "markdown",
   "metadata": {},
   "source": [
    "The maximum controller current is related to the open circuit voltage and the motor and battery resistance.\n",
    "I think maybe this is the open circuit voltage divided by the geometric mean of the motor and battery resistances?"
   ]
  },
  {
   "cell_type": "code",
   "execution_count": 26,
   "metadata": {},
   "outputs": [
    {
     "data": {
      "image/png": "[encoded data removed]",
      "text/latex": [
       "$\\displaystyle \\frac{V_{oc}}{2 \\sqrt{R_{b}} \\sqrt{R_{m}}}$"
      ],
      "text/plain": [
       "      V_oc      \n",
       "────────────────\n",
       "    _____   ____\n",
       "2⋅╲╱ R_b ⋅╲╱ Rₘ "
      ]
     },
     "execution_count": 26,
     "metadata": {},
     "output_type": "execute_result"
    }
   ],
   "source": [
    "constant_power[0][Ic].subs(omega, 0).subs(Ibm, Voc / 2 / Rb)"
   ]
  },
  {
   "cell_type": "markdown",
   "metadata": {},
   "source": [
    "# Unused Cruft Below"
   ]
  },
  {
   "cell_type": "code",
   "execution_count": 27,
   "metadata": {},
   "outputs": [],
   "source": [
    "# Highest speed analytical solution\n",
    "\n",
    "rho = sympy.Symbol('rho')\n",
    "cd = sympy.Symbol('c_d')\n",
    "area = sympy.Symbol('A')\n",
    "radius = sympy.Symbol('r')\n",
    "\n",
    "load_torque = sympy.Eq(torque, sympy.Rational(1,2) * rho * cd * area * radius**3 * omega**2)\n",
    "high_rpm = sympy.Eq(torque/k, (Voc - k * omega) / (Rm +  Rb))"
   ]
  },
  {
   "cell_type": "code",
   "execution_count": 28,
   "metadata": {},
   "outputs": [
    {
     "data": {
      "image/png": "[encoded data removed]",
      "text/latex": [
       "$\\displaystyle \\tau = \\frac{A c_{d} \\omega^{2} r^{3} \\rho}{2}$"
      ],
      "text/plain": [
       "           2  3  \n",
       "    A⋅c_d⋅ω ⋅r ⋅ρ\n",
       "τ = ─────────────\n",
       "          2      "
      ]
     },
     "execution_count": 28,
     "metadata": {},
     "output_type": "execute_result"
    }
   ],
   "source": [
    "load_torque"
   ]
  },
  {
   "cell_type": "code",
   "execution_count": 29,
   "metadata": {},
   "outputs": [
    {
     "data": {
      "image/png": "[encoded data removed]",
      "text/latex": [
       "$\\displaystyle \\frac{\\tau}{k} = \\frac{V_{oc} - k \\omega}{R_{b} + R_{m}}$"
      ],
      "text/plain": [
       "τ   V_oc - k⋅ω\n",
       "─ = ──────────\n",
       "k    R_b + Rₘ "
      ]
     },
     "execution_count": 29,
     "metadata": {},
     "output_type": "execute_result"
    }
   ],
   "source": [
    "high_rpm"
   ]
  },
  {
   "cell_type": "code",
   "execution_count": 30,
   "metadata": {},
   "outputs": [
    {
     "data": {
      "image/png": "[encoded data removed]",
      "text/latex": [
       "$\\displaystyle \\frac{\\sqrt{k} \\sqrt{2 A R_{b} V_{oc} c_{d} r^{3} \\rho + 2 A R_{m} V_{oc} c_{d} r^{3} \\rho + k^{3}}}{A c_{d} r^{3} \\rho \\left(R_{b} + R_{m}\\right)} - \\frac{k^{2}}{A c_{d} r^{3} \\rho \\left(R_{b} + R_{m}\\right)}$"
      ],
      "text/plain": [
       "      ___________________________________________________                     \n",
       "     ╱                   3                      3      3               2      \n",
       "√k⋅╲╱  2⋅A⋅R_b⋅V_oc⋅c_d⋅r ⋅ρ + 2⋅A⋅Rₘ⋅V_oc⋅c_d⋅r ⋅ρ + k               k       \n",
       "───────────────────────────────────────────────────────── - ──────────────────\n",
       "                         3                                         3          \n",
       "                  A⋅c_d⋅r ⋅ρ⋅(R_b + Rₘ)                     A⋅c_d⋅r ⋅ρ⋅(R_b + \n",
       "\n",
       "   \n",
       "   \n",
       "   \n",
       "───\n",
       "   \n",
       "Rₘ)"
      ]
     },
     "execution_count": 30,
     "metadata": {},
     "output_type": "execute_result"
    }
   ],
   "source": [
    "sympy.solve([load_torque, high_rpm], [torque, omega])[1][1]"
   ]
  },
  {
   "cell_type": "code",
   "execution_count": 31,
   "metadata": {},
   "outputs": [
    {
     "data": {
      "image/png": "[encoded data removed]",
      "text/latex": [
       "$\\displaystyle 45.4732582534074$"
      ],
      "text/plain": [
       "45.4732582534074"
      ]
     },
     "execution_count": 31,
     "metadata": {},
     "output_type": "execute_result"
    }
   ],
   "source": [
    "sympy.solve([load_torque, high_rpm], [torque, omega])[1][1].subs(Rb, 0.141).subs(Rm, 0.06).subs(area, 0.504).subs(k, 1.2).subs(cd, 1).subs(radius, 0.32).subs(rho, 1.2).subs(Voc, 58)\n",
    "                                                                                                                                      "
   ]
  },
  {
   "cell_type": "code",
   "execution_count": 32,
   "metadata": {},
   "outputs": [],
   "source": [
    "Ibdiscriminant = sympy.Eq(Voc**2, 4 * Imm**2 * Rb * Rm - 4 * Imm * Rb * k * omega)"
   ]
  },
  {
   "cell_type": "code",
   "execution_count": 33,
   "metadata": {},
   "outputs": [
    {
     "data": {
      "image/png": "[encoded data removed]",
      "text/latex": [
       "$\\displaystyle \\left[ \\frac{I_{mm} R_{m}}{k} - \\frac{V_{oc}^{2}}{4 I_{mm} R_{b} k}\\right]$"
      ],
      "text/plain": [
       "⎡                2   ⎤\n",
       "⎢Iₘₘ⋅Rₘ      V_oc    ⎥\n",
       "⎢────── - ───────────⎥\n",
       "⎣  k      4⋅Iₘₘ⋅R_b⋅k⎦"
      ]
     },
     "execution_count": 33,
     "metadata": {},
     "output_type": "execute_result"
    }
   ],
   "source": [
    "sympy.solve(Ibdiscriminant, omega)"
   ]
  },
  {
   "cell_type": "code",
   "execution_count": 34,
   "metadata": {},
   "outputs": [],
   "source": [
    "Icdiscriminant = sympy.Eq(k**2 * omega**2, 4 * Ibm**2 * Rb * Rm - 4 * Ibm * Rm * Voc)"
   ]
  },
  {
   "cell_type": "code",
   "execution_count": 35,
   "metadata": {},
   "outputs": [
    {
     "data": {
      "image/png": "[encoded data removed]",
      "text/latex": [
       "$\\displaystyle \\left[ - \\frac{2 \\sqrt{R_{m}} \\sqrt{I_{bm} \\left(I_{bm} R_{b} - V_{oc}\\right)}}{k}, \\  \\frac{2 \\sqrt{R_{m}} \\sqrt{I_{bm} \\left(I_{bm} R_{b} - V_{oc}\\right)}}{k}\\right]$"
      ],
      "text/plain": [
       "⎡     ____   ________________________       ____   ________________________⎤\n",
       "⎢-2⋅╲╱ Rₘ ⋅╲╱ I_bm⋅(I_bm⋅R_b - V_oc)    2⋅╲╱ Rₘ ⋅╲╱ I_bm⋅(I_bm⋅R_b - V_oc) ⎥\n",
       "⎢─────────────────────────────────────, ───────────────────────────────────⎥\n",
       "⎣                  k                                     k                 ⎦"
      ]
     },
     "execution_count": 35,
     "metadata": {},
     "output_type": "execute_result"
    }
   ],
   "source": [
    "sympy.solve(Icdiscriminant, omega)"
   ]
  },
  {
   "cell_type": "code",
   "execution_count": 36,
   "metadata": {},
   "outputs": [
    {
     "ename": "NameError",
     "evalue": "name 'phase_limit' is not defined",
     "output_type": "error",
     "traceback": [
      "\u001b[0;31m---------------------------------------------------------------------------\u001b[0m",
      "\u001b[0;31mNameError\u001b[0m                                 Traceback (most recent call last)",
      "Input \u001b[0;32mIn [36]\u001b[0m, in \u001b[0;36m<cell line: 1>\u001b[0;34m()\u001b[0m\n\u001b[0;32m----> 1\u001b[0m \u001b[43mphase_limit\u001b[49m[\u001b[38;5;241m1\u001b[39m][Ib]\n",
      "\u001b[0;31mNameError\u001b[0m: name 'phase_limit' is not defined"
     ]
    }
   ],
   "source": [
    "phase_limit[1][Ib]"
   ]
  },
  {
   "cell_type": "code",
   "execution_count": null,
   "metadata": {},
   "outputs": [],
   "source": [
    "phase_limited_radical = phase_limit[1][Ib].args[2].args[1].args[0]\n",
    "phase_limited_radical = phase_limit[0][Ib].args[2].args[1].args[1]\n",
    "phase_limited_radical"
   ]
  },
  {
   "cell_type": "code",
   "execution_count": null,
   "metadata": {},
   "outputs": [],
   "source": [
    "# omega where radical goes imaginary\n",
    "omeganl = sympy.Symbol('omega_nl')\n",
    "Isc = sympy.Symbol('I_sc')\n",
    "phase_limited_radical"
   ]
  },
  {
   "cell_type": "code",
   "execution_count": null,
   "metadata": {},
   "outputs": [],
   "source": [
    "sympy.solve(phase_limited_radical, 0, omega)[0][omega]\n",
    "#.subs(Voc/k, omeganl).subs(Voc/Rb, Isc)"
   ]
  },
  {
   "cell_type": "code",
   "execution_count": null,
   "metadata": {},
   "outputs": [],
   "source": [
    "sympy.diff(phase_limit[0][Ib], omega)"
   ]
  },
  {
   "cell_type": "code",
   "execution_count": null,
   "metadata": {},
   "outputs": [],
   "source": [
    "sympy.together(sympy.solve(phase_limited_radical, 0, omega)[0][omega])"
   ]
  },
  {
   "cell_type": "code",
   "execution_count": null,
   "metadata": {},
   "outputs": [],
   "source": [
    "battery_limit[0][Ic]"
   ]
  },
  {
   "cell_type": "code",
   "execution_count": null,
   "metadata": {},
   "outputs": [],
   "source": [
    "sympy.diff(battery_limit[0][Ic], omega)"
   ]
  },
  {
   "cell_type": "code",
   "execution_count": null,
   "metadata": {},
   "outputs": [],
   "source": [
    "(battery_limit[0][Ic] * battery_limit[0][Vc]).expand()"
   ]
  },
  {
   "cell_type": "code",
   "execution_count": null,
   "metadata": {},
   "outputs": [],
   "source": [
    "phase_limit[0][Ib].subs(omega, 0).subs(Voc, Isc*Rb).expand()"
   ]
  },
  {
   "cell_type": "code",
   "execution_count": null,
   "metadata": {},
   "outputs": [],
   "source": [
    "sympy.solve(Rb*Ib**2 - Ib * Voc + Imm**2 * Rm, 0, Ib)"
   ]
  },
  {
   "cell_type": "code",
   "execution_count": null,
   "metadata": {},
   "outputs": [],
   "source": [
    "sympy.series(phase_limit[1][Ib], omega)"
   ]
  },
  {
   "cell_type": "code",
   "execution_count": null,
   "metadata": {},
   "outputs": [],
   "source": []
  }
 ],
 "metadata": {
  "kernelspec": {
   "display_name": "Python 3 (ipykernel)",
   "language": "python",
   "name": "python3"
  },
  "language_info": {
   "codemirror_mode": {
    "name": "ipython",
    "version": 3
   },
   "file_extension": ".py",
   "mimetype": "text/x-python",
   "name": "python",
   "nbconvert_exporter": "python",
   "pygments_lexer": "ipython3",
   "version": "3.9.5"
  }
 },
 "nbformat": 4,
 "nbformat_minor": 4
}
