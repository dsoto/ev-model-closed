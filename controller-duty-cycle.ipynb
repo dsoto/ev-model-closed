{
 "cells": [
  {
   "cell_type": "markdown",
   "id": "ce752f89",
   "metadata": {},
   "source": [
    "# Numerical Torque--Speed Model\n",
    "\n",
    "This (currently single-phase) model calculates the torque--speed curve numerically.\n",
    "\n",
    "It starts by attempting to satisfy the constant torque conditions.\n",
    "If those conditions aren't met, it moves to constant power conditions.\n",
    "If those aren't met, it uses the BEMF conditions."
   ]
  },
  {
   "cell_type": "code",
   "execution_count": 1,
   "id": "9c5ce388",
   "metadata": {},
   "outputs": [
    {
     "name": "stderr",
     "output_type": "stream",
     "text": [
      "/Users/dsoto/opt/miniconda3/envs/ph39/lib/python3.9/site-packages/scipy/optimize/minpack.py:175: RuntimeWarning: The iteration is not making good progress, as measured by the \n",
      "  improvement from the last ten iterations.\n",
      "  warnings.warn(msg, RuntimeWarning)\n"
     ]
    },
    {
     "data": {
      "image/png": "[encoded data removed]",
      "text/plain": [
       "<Figure size 432x288 with 1 Axes>"
      ]
     },
     "metadata": {
      "needs_background": "light"
     },
     "output_type": "display_data"
    },
    {
     "data": {
      "text/plain": [
       "[<matplotlib.lines.Line2D at 0x1661887f0>]"
      ]
     },
     "execution_count": 1,
     "metadata": {},
     "output_type": "execute_result"
    },
    {
     "data": {
      "image/png": "[encoded data removed]",
      "text/plain": [
       "<Figure size 432x288 with 1 Axes>"
      ]
     },
     "metadata": {
      "needs_background": "light"
     },
     "output_type": "display_data"
    }
   ],
   "source": [
    "import numpy as np\n",
    "import matplotlib.pyplot as plt\n",
    "from scipy.optimize import fsolve\n",
    "\n",
    "Voc = 50\n",
    "Iout_max = 150\n",
    "Rb = 0.5\n",
    "k = 1.0\n",
    "Rm = 0.1\n",
    "Iin_max = 100\n",
    "\n",
    "def motor_voltage(omega, Rm, k, Iout):\n",
    "    return Iout * Rm + k * omega\n",
    "\n",
    "def output_power(Iout, Vout):\n",
    "    return Iout * Vout\n",
    "\n",
    "def input_power(D, Voc, Rb, Iout, Vout):\n",
    "    return (Voc - Iout * D * Rb) * Iout * D\n",
    "\n",
    "def input_voltage(Voc, Rb, Iin):\n",
    "    return Voc - Rb * Iin\n",
    "\n",
    "def input_current(Iout, D):\n",
    "    return Iout * D\n",
    "\n",
    "def input_power(D, Voc, Rb, Iout, Vout):\n",
    "    return (Voc - Iout * D * Rb) * Iout * D\n",
    "\n",
    "def duty_root(D, Voc, Rb, Iout, Vout):\n",
    "    return input_power(D, Voc, Rb, Iout, Vout) - Iout * Vout\n",
    "\n",
    "def const_power_duty_root(D, Voc, Iin, Rb, Rm, k, omega):\n",
    "    # input electrical power minus output resistor and bemf power\n",
    "    return (Voc - Iin * Rb) * Iin - (Iin / D)**2 * Rm - Iin / D * k * omega\n",
    "\n",
    "def solve_curve(omega, Voc, Rb, Rm, k, Iout_max, Iin_max):\n",
    "    # try const torque\n",
    "    Vout = motor_voltage(omega, Rm, k, Iout_max)\n",
    "    D_ct = fsolve(duty_root, 0, args=(Voc, Rb, Iout_max, Vout))[0]\n",
    "    Iin_ct = input_current(D_ct, Iout_max)\n",
    "    power_out = Vout * Iout_max\n",
    "    power_in = Iin_ct * input_voltage(Voc, Rb, Iin_ct)\n",
    "    # if input current, duty cycle, and power look good, record values\n",
    "    if Iin_ct < Iin_max and D_ct <= 1.0 and abs(power_out - power_in) < 0.1:\n",
    "        if verbose: print(omega, 'ct', power_out - power_in)\n",
    "        motor_current = Iout_max\n",
    "        battery_current = Iin_ct\n",
    "        duty_cycle = D_ct\n",
    "        \n",
    "    # else try const power\n",
    "    else:\n",
    "        D_cp = fsolve(const_power_duty_root, 0.01, args=(Voc, Iin_max, Rb, Rm, k, omega))[0]\n",
    "        Iout = Iin_max / D_cp\n",
    "        # if duty cycle looks good, record values\n",
    "        if D_cp <= 1.0:\n",
    "            power_out = Iout * motor_voltage(omega, Rm, k, Iout)\n",
    "            power_in = Iin_max * input_voltage(Voc, Rb, Iin_max)\n",
    "            if verbose: print(omega, 'cp', power_out - power_in)\n",
    "            battery_current = Iin_max\n",
    "            motor_current = Iout\n",
    "            duty_cycle = D_cp\n",
    "        \n",
    "        # use BEMF\n",
    "        else:\n",
    "            Ibemf = (Voc - k * omega) / (Rb + Rm)    \n",
    "            power_out = Ibemf * motor_voltage(omega, Rm, k, Ibemf)\n",
    "            power_in = Ibemf * input_voltage(Voc, Rb, Ibemf)\n",
    "            if verbose: print(omega, 'b', power_out - power_in)\n",
    "            #print(omega, 'b', Ibemf)\n",
    "            motor_current = Ibemf\n",
    "            battery_current = Ibemf\n",
    "            duty_cycle = 1\n",
    "\n",
    "    return motor_current, battery_current, duty_cycle\n",
    "\n",
    "verbose = False\n",
    "motor_current = []\n",
    "battery_current = []\n",
    "duty_cycle = []\n",
    "omega_max = Voc / k\n",
    "\n",
    "if Iin_max > Voc / Rb / 2:\n",
    "    Iin_max = Voc / Rb / 2\n",
    "\n",
    "motor_current = []\n",
    "battery_current = []\n",
    "duty_cycle = []\n",
    "omegas = np.linspace(0, omega_max, 51)\n",
    "for omega in omegas:\n",
    "    mc, bc, dc = solve_curve(omega, Voc, Rb, Rm, k, Iout_max, Iin_max)\n",
    "    motor_current.append(mc)\n",
    "    battery_current.append(bc)\n",
    "    duty_cycle.append(dc)\n",
    "\n",
    "plt.plot(omegas, motor_current, label='Motor')\n",
    "plt.plot(omegas, battery_current, label='Battery')\n",
    "plt.legend()\n",
    "plt.show()\n",
    "plt.plot(omegas, duty_cycle)"
   ]
  }
 ],
 "metadata": {
  "kernelspec": {
   "display_name": "Python 3 (ipykernel)",
   "language": "python",
   "name": "python3"
  },
  "language_info": {
   "codemirror_mode": {
    "name": "ipython",
    "version": 3
   },
   "file_extension": ".py",
   "mimetype": "text/x-python",
   "name": "python",
   "nbconvert_exporter": "python",
   "pygments_lexer": "ipython3",
   "version": "3.9.5"
  }
 },
 "nbformat": 4,
 "nbformat_minor": 5
}
